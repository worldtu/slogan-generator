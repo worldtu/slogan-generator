{
 "cells": [
  {
   "cell_type": "markdown",
   "id": "622a128a-ddb9-4ed6-bc99-f371ff0f05b4",
   "metadata": {
    "id": "622a128a-ddb9-4ed6-bc99-f371ff0f05b4"
   },
   "source": [
    "# Load Data"
   ]
  },
  {
   "cell_type": "code",
   "execution_count": 1,
   "id": "2878e640-0848-4ce2-820f-bc721bdab5a1",
   "metadata": {
    "id": "2878e640-0848-4ce2-820f-bc721bdab5a1",
    "tags": []
   },
   "outputs": [
    {
     "name": "stderr",
     "output_type": "stream",
     "text": [
      "2025-05-26 21:06:53.827035: E external/local_xla/xla/stream_executor/cuda/cuda_fft.cc:467] Unable to register cuFFT factory: Attempting to register factory for plugin cuFFT when one has already been registered\n",
      "WARNING: All log messages before absl::InitializeLog() is called are written to STDERR\n",
      "E0000 00:00:1748293613.847997   38362 cuda_dnn.cc:8579] Unable to register cuDNN factory: Attempting to register factory for plugin cuDNN when one has already been registered\n",
      "E0000 00:00:1748293613.854531   38362 cuda_blas.cc:1407] Unable to register cuBLAS factory: Attempting to register factory for plugin cuBLAS when one has already been registered\n",
      "W0000 00:00:1748293613.871278   38362 computation_placer.cc:177] computation placer already registered. Please check linkage and avoid linking the same target more than once.\n",
      "W0000 00:00:1748293613.871297   38362 computation_placer.cc:177] computation placer already registered. Please check linkage and avoid linking the same target more than once.\n",
      "W0000 00:00:1748293613.871300   38362 computation_placer.cc:177] computation placer already registered. Please check linkage and avoid linking the same target more than once.\n",
      "W0000 00:00:1748293613.871302   38362 computation_placer.cc:177] computation placer already registered. Please check linkage and avoid linking the same target more than once.\n",
      "2025-05-26 21:06:53.877138: I tensorflow/core/platform/cpu_feature_guard.cc:210] This TensorFlow binary is optimized to use available CPU instructions in performance-critical operations.\n",
      "To enable the following instructions: AVX2 FMA, in other operations, rebuild TensorFlow with the appropriate compiler flags.\n"
     ]
    }
   ],
   "source": [
    "# !pip install tensorflow\n",
    "# !pip uninstall -y keras\n",
    "# !pip install tf-keras\n",
    "# !pip install rouge_score\n",
    "# !pip install transformers\n",
    "# !pip install torch\n",
    "# !pip install nltk\n",
    "# !pip install torchinfo\n",
    "# !pip install pydot\n",
    "# !pip install graphviz\n",
    "import pandas as pd\n",
    "import numpy as np\n",
    "import tensorflow as tf\n",
    "import seaborn as sns\n",
    "import matplotlib.pyplot as plt\n",
    "from tensorflow.keras.preprocessing.text import Tokenizer\n",
    "from tensorflow.keras.preprocessing.sequence import pad_sequences\n",
    "from tensorflow.keras.utils import to_categorical\n",
    "from tensorflow.keras.models import Model\n",
    "from tensorflow.keras.layers import Input, RepeatVector, LSTM, Embedding, Dense, Dropout, Bidirectional, Concatenate, Lambda\n",
    "from tensorflow.keras.callbacks import EarlyStopping, ModelCheckpoint\n",
    "from transformers import BartTokenizer\n",
    "import torch\n",
    "# from sentence_transformers import SentenceTransformer\n",
    "from nltk.translate.bleu_score import sentence_bleu, SmoothingFunction\n",
    "from rouge_score import rouge_scorer\n",
    "from tensorflow.keras.models import load_model\n",
    "from tqdm import tqdm\n",
    "import json"
   ]
  },
  {
   "cell_type": "code",
   "execution_count": 2,
   "id": "Z9z4VXBk7HFJ",
   "metadata": {
    "colab": {
     "base_uri": "https://localhost:8080/"
    },
    "id": "Z9z4VXBk7HFJ",
    "outputId": "d3dc29dc-7347-460f-f475-f21d659ecbeb",
    "tags": []
   },
   "outputs": [
    {
     "name": "stdout",
     "output_type": "stream",
     "text": [
      "1 GPU(s) configured for memory growth.\n"
     ]
    }
   ],
   "source": [
    "import os\n",
    "# Force TF to allow memory growth on GPUs\n",
    "os.environ['TF_FORCE_GPU_ALLOW_GROWTH'] = 'true'\n",
    "\n",
    "import tensorflow as tf\n",
    "\n",
    "# Now configure in code (optional—you can skip this if the env var works)\n",
    "gpus = tf.config.list_physical_devices('GPU')\n",
    "if gpus:\n",
    "    for gpu in gpus:\n",
    "        tf.config.experimental.set_memory_growth(gpu, True)\n",
    "    print(f\"{len(gpus)} GPU(s) configured for memory growth.\")\n",
    "else:\n",
    "    print(\"No GPU detected.\")"
   ]
  },
  {
   "cell_type": "code",
   "execution_count": 3,
   "id": "a6b73085-7fa3-4c39-8370-f645b5a511b5",
   "metadata": {
    "colab": {
     "base_uri": "https://localhost:8080/"
    },
    "id": "a6b73085-7fa3-4c39-8370-f645b5a511b5",
    "outputId": "03f096ed-884c-43ad-dc61-54aea5edb6cf",
    "tags": []
   },
   "outputs": [],
   "source": [
    "# # %%\n",
    "# # Mount Google Drive\n",
    "# from google.colab import drive\n",
    "# drive.mount('/content/drive/')\n",
    "\n",
    "# Load your data\n",
    "df = pd.read_csv(\"valid.csv\")\n",
    "df_test = pd.read_csv(\"test-curated.csv\")\n",
    "\n",
    "\n",
    "SEED = 123\n",
    "np.random.seed(SEED)\n",
    "tf.random.set_seed(SEED)\n",
    "\n",
    "# import os\n",
    "# save_dir = '/content/drive/MyDrive/Machine Learning II'\n",
    "# os.makedirs(save_dir, exist_ok=True)"
   ]
  },
  {
   "cell_type": "code",
   "execution_count": 4,
   "id": "6c0d3b4b-5ca7-4262-8d5e-96dce272b4b2",
   "metadata": {
    "colab": {
     "base_uri": "https://localhost:8080/",
     "height": 1000
    },
    "id": "6c0d3b4b-5ca7-4262-8d5e-96dce272b4b2",
    "outputId": "f492141f-b941-4013-ac67-4a619b2af038",
    "tags": []
   },
   "outputs": [
    {
     "data": {
      "text/html": [
       "<div>\n",
       "<style scoped>\n",
       "    .dataframe tbody tr th:only-of-type {\n",
       "        vertical-align: middle;\n",
       "    }\n",
       "\n",
       "    .dataframe tbody tr th {\n",
       "        vertical-align: top;\n",
       "    }\n",
       "\n",
       "    .dataframe thead th {\n",
       "        text-align: right;\n",
       "    }\n",
       "</style>\n",
       "<table border=\"1\" class=\"dataframe\">\n",
       "  <thead>\n",
       "    <tr style=\"text-align: right;\">\n",
       "      <th></th>\n",
       "      <th>desc</th>\n",
       "      <th>output</th>\n",
       "      <th>type</th>\n",
       "      <th>company</th>\n",
       "      <th>industry</th>\n",
       "      <th>url</th>\n",
       "      <th>alias</th>\n",
       "      <th>desc_masked</th>\n",
       "      <th>output_masked</th>\n",
       "      <th>ent_dict</th>\n",
       "      <th>unsupported</th>\n",
       "      <th>first_pos</th>\n",
       "    </tr>\n",
       "  </thead>\n",
       "  <tbody>\n",
       "    <tr>\n",
       "      <th>0</th>\n",
       "      <td>The latest &lt;company&gt; &amp; Point of Sale tech for the lowest prices. Flexible monthly rental options with the backing of our dedicated, on-call support team.</td>\n",
       "      <td>Taking Care of Small Business Technology</td>\n",
       "      <td>headline_long</td>\n",
       "      <td>eftpos warehouse</td>\n",
       "      <td>computer hardware</td>\n",
       "      <td>eftposwarehouse.co.nz</td>\n",
       "      <td>Eftpos Warehouse</td>\n",
       "      <td>The latest &lt;company&gt; &amp; Point of Sale tech for the lowest prices. Flexible [date] rental options with the backing of our dedicated, on-call support team.</td>\n",
       "      <td>Taking Care of Small Business Technology</td>\n",
       "      <td>{'[date]': 'monthly'}</td>\n",
       "      <td>False</td>\n",
       "      <td>VB</td>\n",
       "    </tr>\n",
       "    <tr>\n",
       "      <th>1</th>\n",
       "      <td>Easily deliver personalized activities that enrich the lives of residents in older adult communities. Save time and increase satisfaction.</td>\n",
       "      <td>Build World-Class Recreation Programs</td>\n",
       "      <td>headline</td>\n",
       "      <td>welbi</td>\n",
       "      <td>health, wellness and fitness</td>\n",
       "      <td>welbi.co</td>\n",
       "      <td>Welbi</td>\n",
       "      <td>Easily deliver personalized activities that enrich the lives of residents in older adult communities. Save time and increase satisfaction.</td>\n",
       "      <td>Build World-Class Recreation Programs</td>\n",
       "      <td>{}</td>\n",
       "      <td>False</td>\n",
       "      <td>VB</td>\n",
       "    </tr>\n",
       "    <tr>\n",
       "      <th>2</th>\n",
       "      <td>Powerful lead generation software that converts abandoning visitors into subscribers with our dynamic marketing tools and Exit Intent® technology.</td>\n",
       "      <td>Most Powerful Lead Generation Software for Marketers</td>\n",
       "      <td>headline_long</td>\n",
       "      <td>optinmonster</td>\n",
       "      <td>internet</td>\n",
       "      <td>optinmonster.com</td>\n",
       "      <td>Optinmonster</td>\n",
       "      <td>Powerful lead generation software that converts abandoning visitors into subscribers with our dynamic marketing tools and Exit Intent® technology.</td>\n",
       "      <td>Most Powerful Lead Generation Software for Marketers</td>\n",
       "      <td>{}</td>\n",
       "      <td>False</td>\n",
       "      <td>JJ</td>\n",
       "    </tr>\n",
       "    <tr>\n",
       "      <th>3</th>\n",
       "      <td>Twine matches companies to the best digital and creative freelancers from a network of over 260,000. It's free to post a job and you only pay when you hire.</td>\n",
       "      <td>Hire quality freelancers for your job</td>\n",
       "      <td>headline_long</td>\n",
       "      <td>twine.fm</td>\n",
       "      <td>internet</td>\n",
       "      <td>twine.fm</td>\n",
       "      <td>NaN</td>\n",
       "      <td>Twine matches companies to the best digital and creative freelancers from a network of [number]. It's free to post a job and you only pay when you hire.</td>\n",
       "      <td>Hire quality freelancers for your job</td>\n",
       "      <td>{'[number]': 'over 260,000'}</td>\n",
       "      <td>False</td>\n",
       "      <td>VB</td>\n",
       "    </tr>\n",
       "    <tr>\n",
       "      <th>4</th>\n",
       "      <td>Financial Advisers Norwich, Norfolk - &lt;company&gt; Norwich are committed to helping you with your financial needs.</td>\n",
       "      <td>Financial Advisers Norwich, Norfolk</td>\n",
       "      <td>headline</td>\n",
       "      <td>mcb financial services ltd</td>\n",
       "      <td>financial services</td>\n",
       "      <td>mcbfinancialservices.co.uk</td>\n",
       "      <td>Mcb Financial Services</td>\n",
       "      <td>Financial Advisers [country], [country1] - &lt;company&gt; [country] are committed to helping you with your financial needs.</td>\n",
       "      <td>Financial Advisers [country], [country1]</td>\n",
       "      <td>{'[country]': 'Norwich', '[country1]': 'Norfolk'}</td>\n",
       "      <td>False</td>\n",
       "      <td>NN</td>\n",
       "    </tr>\n",
       "  </tbody>\n",
       "</table>\n",
       "</div>"
      ],
      "text/plain": [
       "                                                                                                                                                           desc  \\\n",
       "0     The latest <company> & Point of Sale tech for the lowest prices. Flexible monthly rental options with the backing of our dedicated, on-call support team.   \n",
       "1                    Easily deliver personalized activities that enrich the lives of residents in older adult communities. Save time and increase satisfaction.   \n",
       "2            Powerful lead generation software that converts abandoning visitors into subscribers with our dynamic marketing tools and Exit Intent® technology.   \n",
       "3  Twine matches companies to the best digital and creative freelancers from a network of over 260,000. It's free to post a job and you only pay when you hire.   \n",
       "4                                               Financial Advisers Norwich, Norfolk - <company> Norwich are committed to helping you with your financial needs.   \n",
       "\n",
       "                                                 output           type  \\\n",
       "0              Taking Care of Small Business Technology  headline_long   \n",
       "1                 Build World-Class Recreation Programs       headline   \n",
       "2  Most Powerful Lead Generation Software for Marketers  headline_long   \n",
       "3                 Hire quality freelancers for your job  headline_long   \n",
       "4                   Financial Advisers Norwich, Norfolk       headline   \n",
       "\n",
       "                      company                      industry  \\\n",
       "0            eftpos warehouse             computer hardware   \n",
       "1                       welbi  health, wellness and fitness   \n",
       "2                optinmonster                      internet   \n",
       "3                    twine.fm                      internet   \n",
       "4  mcb financial services ltd            financial services   \n",
       "\n",
       "                          url                   alias  \\\n",
       "0       eftposwarehouse.co.nz        Eftpos Warehouse   \n",
       "1                    welbi.co                   Welbi   \n",
       "2            optinmonster.com            Optinmonster   \n",
       "3                    twine.fm                     NaN   \n",
       "4  mcbfinancialservices.co.uk  Mcb Financial Services   \n",
       "\n",
       "                                                                                                                                                desc_masked  \\\n",
       "0  The latest <company> & Point of Sale tech for the lowest prices. Flexible [date] rental options with the backing of our dedicated, on-call support team.   \n",
       "1                Easily deliver personalized activities that enrich the lives of residents in older adult communities. Save time and increase satisfaction.   \n",
       "2        Powerful lead generation software that converts abandoning visitors into subscribers with our dynamic marketing tools and Exit Intent® technology.   \n",
       "3  Twine matches companies to the best digital and creative freelancers from a network of [number]. It's free to post a job and you only pay when you hire.   \n",
       "4                                    Financial Advisers [country], [country1] - <company> [country] are committed to helping you with your financial needs.   \n",
       "\n",
       "                                          output_masked  \\\n",
       "0              Taking Care of Small Business Technology   \n",
       "1                 Build World-Class Recreation Programs   \n",
       "2  Most Powerful Lead Generation Software for Marketers   \n",
       "3                 Hire quality freelancers for your job   \n",
       "4              Financial Advisers [country], [country1]   \n",
       "\n",
       "                                            ent_dict  unsupported first_pos  \n",
       "0                              {'[date]': 'monthly'}        False        VB  \n",
       "1                                                 {}        False        VB  \n",
       "2                                                 {}        False        JJ  \n",
       "3                       {'[number]': 'over 260,000'}        False        VB  \n",
       "4  {'[country]': 'Norwich', '[country1]': 'Norfolk'}        False        NN  "
      ]
     },
     "execution_count": 4,
     "metadata": {},
     "output_type": "execute_result"
    }
   ],
   "source": [
    "pd.set_option(\"display.max_colwidth\", 500)\n",
    "df.head()"
   ]
  },
  {
   "cell_type": "code",
   "execution_count": 5,
   "id": "232c8528-8998-41a5-bcb6-a86e09e21489",
   "metadata": {
    "colab": {
     "base_uri": "https://localhost:8080/"
    },
    "id": "232c8528-8998-41a5-bcb6-a86e09e21489",
    "outputId": "56ee37f8-2e21-4ed8-8220-3b192ccb0737",
    "tags": []
   },
   "outputs": [
    {
     "name": "stdout",
     "output_type": "stream",
     "text": [
      "<class 'pandas.core.frame.DataFrame'>\n",
      "RangeIndex: 5346 entries, 0 to 5345\n",
      "Data columns (total 12 columns):\n",
      " #   Column         Non-Null Count  Dtype \n",
      "---  ------         --------------  ----- \n",
      " 0   desc           5346 non-null   object\n",
      " 1   output         5346 non-null   object\n",
      " 2   type           5346 non-null   object\n",
      " 3   company        5346 non-null   object\n",
      " 4   industry       5346 non-null   object\n",
      " 5   url            5346 non-null   object\n",
      " 6   alias          4017 non-null   object\n",
      " 7   desc_masked    5346 non-null   object\n",
      " 8   output_masked  5346 non-null   object\n",
      " 9   ent_dict       5346 non-null   object\n",
      " 10  unsupported    5346 non-null   bool  \n",
      " 11  first_pos      5346 non-null   object\n",
      "dtypes: bool(1), object(11)\n",
      "memory usage: 464.8+ KB\n"
     ]
    }
   ],
   "source": [
    "df.info()"
   ]
  },
  {
   "cell_type": "markdown",
   "id": "63f0d864-f59f-462d-8878-24289c5696f9",
   "metadata": {
    "id": "63f0d864-f59f-462d-8878-24289c5696f9"
   },
   "source": [
    "# EDA"
   ]
  },
  {
   "cell_type": "code",
   "execution_count": 6,
   "id": "ca421c34-2c33-4552-af9c-db5d28227c84",
   "metadata": {
    "colab": {
     "base_uri": "https://localhost:8080/",
     "height": 363
    },
    "id": "ca421c34-2c33-4552-af9c-db5d28227c84",
    "outputId": "1f3856ea-c419-4f94-ea23-391248e73c8d",
    "tags": []
   },
   "outputs": [
    {
     "data": {
      "text/html": [
       "<div>\n",
       "<style scoped>\n",
       "    .dataframe tbody tr th:only-of-type {\n",
       "        vertical-align: middle;\n",
       "    }\n",
       "\n",
       "    .dataframe tbody tr th {\n",
       "        vertical-align: top;\n",
       "    }\n",
       "\n",
       "    .dataframe thead th {\n",
       "        text-align: right;\n",
       "    }\n",
       "</style>\n",
       "<table border=\"1\" class=\"dataframe\">\n",
       "  <thead>\n",
       "    <tr style=\"text-align: right;\">\n",
       "      <th></th>\n",
       "      <th>industry</th>\n",
       "      <th>output</th>\n",
       "      <th>%_count</th>\n",
       "    </tr>\n",
       "  </thead>\n",
       "  <tbody>\n",
       "    <tr>\n",
       "      <th>61</th>\n",
       "      <td>information technology and services</td>\n",
       "      <td>452</td>\n",
       "      <td>21.920466</td>\n",
       "    </tr>\n",
       "    <tr>\n",
       "      <th>80</th>\n",
       "      <td>marketing and advertising</td>\n",
       "      <td>267</td>\n",
       "      <td>12.948594</td>\n",
       "    </tr>\n",
       "    <tr>\n",
       "      <th>23</th>\n",
       "      <td>computer software</td>\n",
       "      <td>257</td>\n",
       "      <td>12.463628</td>\n",
       "    </tr>\n",
       "    <tr>\n",
       "      <th>24</th>\n",
       "      <td>construction</td>\n",
       "      <td>195</td>\n",
       "      <td>9.456838</td>\n",
       "    </tr>\n",
       "    <tr>\n",
       "      <th>65</th>\n",
       "      <td>internet</td>\n",
       "      <td>187</td>\n",
       "      <td>9.068865</td>\n",
       "    </tr>\n",
       "    <tr>\n",
       "      <th>41</th>\n",
       "      <td>financial services</td>\n",
       "      <td>161</td>\n",
       "      <td>7.807953</td>\n",
       "    </tr>\n",
       "    <tr>\n",
       "      <th>114</th>\n",
       "      <td>real estate</td>\n",
       "      <td>161</td>\n",
       "      <td>7.807953</td>\n",
       "    </tr>\n",
       "    <tr>\n",
       "      <th>7</th>\n",
       "      <td>automotive</td>\n",
       "      <td>157</td>\n",
       "      <td>7.613967</td>\n",
       "    </tr>\n",
       "    <tr>\n",
       "      <th>52</th>\n",
       "      <td>health, wellness and fitness</td>\n",
       "      <td>114</td>\n",
       "      <td>5.528613</td>\n",
       "    </tr>\n",
       "    <tr>\n",
       "      <th>70</th>\n",
       "      <td>law practice</td>\n",
       "      <td>111</td>\n",
       "      <td>5.383123</td>\n",
       "    </tr>\n",
       "  </tbody>\n",
       "</table>\n",
       "</div>"
      ],
      "text/plain": [
       "                                industry  output    %_count\n",
       "61   information technology and services     452  21.920466\n",
       "80             marketing and advertising     267  12.948594\n",
       "23                     computer software     257  12.463628\n",
       "24                          construction     195   9.456838\n",
       "65                              internet     187   9.068865\n",
       "41                    financial services     161   7.807953\n",
       "114                          real estate     161   7.807953\n",
       "7                             automotive     157   7.613967\n",
       "52          health, wellness and fitness     114   5.528613\n",
       "70                          law practice     111   5.383123"
      ]
     },
     "execution_count": 6,
     "metadata": {},
     "output_type": "execute_result"
    }
   ],
   "source": [
    "# number of companies per industry\n",
    "industry = df.groupby('industry')['output'].count().reset_index().sort_values(by = 'output', ascending = False).head(10)\n",
    "industry['%_count'] = industry['output'] / industry['output'].sum() * 100\n",
    "industry"
   ]
  },
  {
   "cell_type": "code",
   "execution_count": 7,
   "id": "7fa5e792-9cb0-46a1-8e3d-5f89522eaf65",
   "metadata": {
    "colab": {
     "base_uri": "https://localhost:8080/",
     "height": 714
    },
    "id": "7fa5e792-9cb0-46a1-8e3d-5f89522eaf65",
    "outputId": "09cab3b5-ec62-4aeb-f3db-bd93d3569081",
    "tags": []
   },
   "outputs": [
    {
     "name": "stderr",
     "output_type": "stream",
     "text": [
      "/var/tmp/ipykernel_38362/2105412124.py:2: FutureWarning: \n",
      "\n",
      "Passing `palette` without assigning `hue` is deprecated and will be removed in v0.14.0. Assign the `y` variable to `hue` and set `legend=False` for the same effect.\n",
      "\n",
      "  ax = sns.barplot(\n"
     ]
    },
    {
     "data": {
      "image/png": "[encoded data removed]",
      "text/plain": [
       "<Figure size 500x300 with 1 Axes>"
      ]
     },
     "metadata": {},
     "output_type": "display_data"
    }
   ],
   "source": [
    "plt.figure(figsize=(5, 3))\n",
    "ax = sns.barplot(\n",
    "    data=industry,\n",
    "    x='%_count',\n",
    "    y='industry',\n",
    "    orient='h',\n",
    "    palette='viridis'\n",
    ")\n",
    "\n",
    "# Add % labels to the bars\n",
    "for i, value in enumerate(industry['%_count']):\n",
    "    plt.text(\n",
    "        value + 0.5,                         # x position (a bit after the bar)\n",
    "        i,                                   # y position (row index)\n",
    "        f'{value:.1f}%',                     # label text\n",
    "        va='center'\n",
    "    )\n",
    "\n",
    "plt.title('Top 10 Industries by Slogan Output Share')\n",
    "plt.xlabel('Percentage of Companies')\n",
    "plt.ylabel('Industry')\n",
    "plt.tight_layout()\n",
    "plt.show()"
   ]
  },
  {
   "cell_type": "code",
   "execution_count": 8,
   "id": "a5112a15-9ac3-4740-a87b-d9759e0f3b63",
   "metadata": {
    "colab": {
     "base_uri": "https://localhost:8080/",
     "height": 698
    },
    "id": "a5112a15-9ac3-4740-a87b-d9759e0f3b63",
    "outputId": "832747cf-0a28-4e94-fbc9-bf97eb012dca",
    "tags": []
   },
   "outputs": [
    {
     "name": "stdout",
     "output_type": "stream",
     "text": [
      "Max length: 541\n",
      "90th percentile: 56\n",
      "95th percentile: 67\n",
      "99th percentile: 91\n",
      "Median: 34\n"
     ]
    },
    {
     "data": {
      "image/png": "[encoded data removed]",
      "text/plain": [
       "<Figure size 1000x500 with 1 Axes>"
      ]
     },
     "metadata": {},
     "output_type": "display_data"
    }
   ],
   "source": [
    "# Load tokenizer\n",
    "tokenizer = BartTokenizer.from_pretrained(\"facebook/bart-base\")\n",
    "\n",
    "# Convert your input texts to lowercase strings\n",
    "input_texts = df[\"desc_masked\"].astype(str).str.lower().tolist()\n",
    "target_texts = df['output_masked'].astype(str).str.lower().tolist()\n",
    "\n",
    "# Tokenize without padding or truncation to get actual token lengths\n",
    "tokenized_input = tokenizer(input_texts, padding=False, truncation=False)\n",
    "tokenized_target = tokenizer(target_texts, padding=False, truncation=False)\n",
    "\n",
    "\n",
    "# Get lengths of tokenized input sequences\n",
    "token_input_lengths = [len(seq) for seq in tokenized_input[\"input_ids\"]]\n",
    "token_target_lengths = [len(seq) for seq in tokenized_target[\"input_ids\"]]\n",
    "\n",
    "# Print basic stats\n",
    "print(\"Max length:\", max(token_input_lengths))\n",
    "print(\"90th percentile:\", int(np.percentile(token_input_lengths, 90)))\n",
    "print(\"95th percentile:\", int(np.percentile(token_input_lengths, 95)))\n",
    "print(\"99th percentile:\", int(np.percentile(token_input_lengths, 99)))\n",
    "print(\"Median:\", int(np.median(token_input_lengths)))\n",
    "\n",
    "# Plot distribution\n",
    "plt.figure(figsize=(10, 5))\n",
    "sns.kdeplot(token_input_lengths, fill=True, color='teal')\n",
    "plt.title(\"Distribution of Tokenized Product Description Lengths\")\n",
    "plt.xlabel(\"Number of Tokens\")\n",
    "plt.ylabel(\"Frequency\")\n",
    "plt.grid(True)\n",
    "plt.show()\n"
   ]
  },
  {
   "cell_type": "code",
   "execution_count": 9,
   "id": "b00c3ec9-2f18-445a-aa4a-974407e6ce13",
   "metadata": {
    "colab": {
     "base_uri": "https://localhost:8080/",
     "height": 574
    },
    "id": "b00c3ec9-2f18-445a-aa4a-974407e6ce13",
    "outputId": "e6e533bb-4688-4187-db15-7c1e65f8d932",
    "tags": []
   },
   "outputs": [
    {
     "name": "stdout",
     "output_type": "stream",
     "text": [
      "Max length: 31\n",
      "90th percentile: 15\n",
      "95th percentile: 17\n",
      "99th percentile: 21\n",
      "Median: 9\n"
     ]
    },
    {
     "data": {
      "image/png": "[encoded data removed]",
      "text/plain": [
       "<Figure size 1000x500 with 1 Axes>"
      ]
     },
     "metadata": {},
     "output_type": "display_data"
    }
   ],
   "source": [
    "# Print basic stats\n",
    "print(\"Max length:\", max(token_target_lengths))\n",
    "print(\"90th percentile:\", int(np.percentile(token_target_lengths, 90)))\n",
    "print(\"95th percentile:\", int(np.percentile(token_target_lengths, 95)))\n",
    "print(\"99th percentile:\", int(np.percentile(token_target_lengths, 99)))\n",
    "print(\"Median:\", int(np.median(token_target_lengths)))\n",
    "\n",
    "# Plot distribution\n",
    "plt.figure(figsize=(10, 5))\n",
    "sns.kdeplot(token_target_lengths, fill=True, color='teal')\n",
    "plt.title(\"Distribution of Tokenized Slogan Lengths\")\n",
    "plt.xlabel(\"Number of Tokens\")\n",
    "plt.ylabel(\"Frequency\")\n",
    "plt.grid(True)\n",
    "plt.show()\n"
   ]
  },
  {
   "cell_type": "markdown",
   "id": "c38f6b07-2764-4320-a044-293798179e89",
   "metadata": {
    "id": "c38f6b07-2764-4320-a044-293798179e89"
   },
   "source": [
    "# Data Preprocessing"
   ]
  },
  {
   "cell_type": "markdown",
   "id": "6c5243ed-ba8b-4789-9cd1-ae18da4e9b20",
   "metadata": {
    "id": "6c5243ed-ba8b-4789-9cd1-ae18da4e9b20"
   },
   "source": [
    "2. Extracting and formatting text\n",
    "3. Tokenizing words into sequences\n",
    "4. Padding sequences to equal length\n",
    "5. Preparing inputs/targets for training"
   ]
  },
  {
   "cell_type": "code",
   "execution_count": 10,
   "id": "RtQX16G4ZQsz",
   "metadata": {
    "id": "RtQX16G4ZQsz",
    "tags": []
   },
   "outputs": [],
   "source": [
    "import re\n",
    "\n",
    "DESC_COL = 'desc'\n",
    "SLOGAN_COL = 'output'\n",
    "def clean_text(text):\n",
    "    if not isinstance(text, str):\n",
    "        return \"\"\n",
    "    text = text.lower()\n",
    "    text = re.sub(r\"[^a-z0-9\\s.,?!']\", \"\", text)\n",
    "    text = re.sub(r\"\\s+\", \" \", text).strip()\n",
    "    return text\n",
    "\n",
    "for df in [df, df_test]:\n",
    "    df[DESC_COL + '_cleaned'] = df[DESC_COL].apply(clean_text)\n",
    "    df[SLOGAN_COL + '_cleaned'] = df[SLOGAN_COL].apply(clean_text)"
   ]
  },
  {
   "cell_type": "code",
   "execution_count": 11,
   "id": "2rNfrAjhZhWZ",
   "metadata": {
    "colab": {
     "base_uri": "https://localhost:8080/",
     "height": 1000
    },
    "id": "2rNfrAjhZhWZ",
    "outputId": "c2279f0c-ce3c-463e-f4f0-51cc92263522",
    "tags": []
   },
   "outputs": [
    {
     "data": {
      "text/html": [
       "<div>\n",
       "<style scoped>\n",
       "    .dataframe tbody tr th:only-of-type {\n",
       "        vertical-align: middle;\n",
       "    }\n",
       "\n",
       "    .dataframe tbody tr th {\n",
       "        vertical-align: top;\n",
       "    }\n",
       "\n",
       "    .dataframe thead th {\n",
       "        text-align: right;\n",
       "    }\n",
       "</style>\n",
       "<table border=\"1\" class=\"dataframe\">\n",
       "  <thead>\n",
       "    <tr style=\"text-align: right;\">\n",
       "      <th></th>\n",
       "      <th>desc</th>\n",
       "      <th>output</th>\n",
       "      <th>type</th>\n",
       "      <th>company</th>\n",
       "      <th>industry</th>\n",
       "      <th>url</th>\n",
       "      <th>alias</th>\n",
       "      <th>desc_masked</th>\n",
       "      <th>output_masked</th>\n",
       "      <th>ent_dict</th>\n",
       "      <th>unsupported</th>\n",
       "      <th>first_pos</th>\n",
       "      <th>desc_cleaned</th>\n",
       "      <th>output_cleaned</th>\n",
       "    </tr>\n",
       "  </thead>\n",
       "  <tbody>\n",
       "    <tr>\n",
       "      <th>0</th>\n",
       "      <td>Our expert team of Analytical Chemists provide eLiquid analysis &amp; manufacturing services, ensuring full regulatory compliance for the e-cigarette market.</td>\n",
       "      <td>E-Liquid Testing UK</td>\n",
       "      <td>headline</td>\n",
       "      <td>el-science</td>\n",
       "      <td>chemicals</td>\n",
       "      <td>elscience.co.uk</td>\n",
       "      <td>NaN</td>\n",
       "      <td>Our expert team of Analytical Chemists provide eLiquid analysis &amp; manufacturing services, ensuring full regulatory compliance for the e-cigarette market.</td>\n",
       "      <td>E-Liquid Testing [u:country]</td>\n",
       "      <td>{'[u:country]': 'UK'}</td>\n",
       "      <td>True</td>\n",
       "      <td>JJ</td>\n",
       "      <td>our expert team of analytical chemists provide eliquid analysis manufacturing services, ensuring full regulatory compliance for the ecigarette market.</td>\n",
       "      <td>eliquid testing uk</td>\n",
       "    </tr>\n",
       "    <tr>\n",
       "      <th>1</th>\n",
       "      <td>&lt;company&gt; is West Michigan's full service backline rental, audio, and production resource, equipped to serve the Midwest and beyond. (616) 735-9049</td>\n",
       "      <td>Great Performances Start With Great Service</td>\n",
       "      <td>headline_long</td>\n",
       "      <td>on stage services inc.</td>\n",
       "      <td>events services</td>\n",
       "      <td>onstageservices.com</td>\n",
       "      <td>On Stage Services</td>\n",
       "      <td>&lt;company&gt; is [country] full service backline rental, audio, and production resource, equipped to serve the [location] and beyond. (616) 735-9049</td>\n",
       "      <td>Great Performances Start With Great Service</td>\n",
       "      <td>{'[country]': \"West Michigan's\", '[location]': 'Midwest'}</td>\n",
       "      <td>False</td>\n",
       "      <td>JJ</td>\n",
       "      <td>company is west michigan's full service backline rental, audio, and production resource, equipped to serve the midwest and beyond. 616 7359049</td>\n",
       "      <td>great performances start with great service</td>\n",
       "    </tr>\n",
       "    <tr>\n",
       "      <th>2</th>\n",
       "      <td>From placing entire software engineering teams to integrating easily into your current team, we offer bespoke placements of the very best engineers.</td>\n",
       "      <td>Software Development Consultancy London</td>\n",
       "      <td>headline</td>\n",
       "      <td>build circle</td>\n",
       "      <td>information technology and services</td>\n",
       "      <td>buildcircle.co.uk</td>\n",
       "      <td>Build Circle</td>\n",
       "      <td>From placing entire software engineering teams to integrating easily into your current team, we offer bespoke placements of the very best engineers.</td>\n",
       "      <td>Software Development Consultancy [u:country]</td>\n",
       "      <td>{'[u:country]': 'London'}</td>\n",
       "      <td>True</td>\n",
       "      <td>NN</td>\n",
       "      <td>from placing entire software engineering teams to integrating easily into your current team, we offer bespoke placements of the very best engineers.</td>\n",
       "      <td>software development consultancy london</td>\n",
       "    </tr>\n",
       "    <tr>\n",
       "      <th>3</th>\n",
       "      <td>A Strategic Partner of The Law Society, &lt;company&gt; is a Legal Accounts, Practice Management and Case Management cloud based software solution.</td>\n",
       "      <td>Cloud Based Legal Accounts, Practice and Case Management.</td>\n",
       "      <td>headline_long</td>\n",
       "      <td>insight legal software ltd.</td>\n",
       "      <td>computer software</td>\n",
       "      <td>insightlegal.co.uk</td>\n",
       "      <td>Insight Legal Software</td>\n",
       "      <td>A Strategic Partner of The Law Society, &lt;company&gt; is a Legal Accounts, Practice Management and Case Management cloud based software solution.</td>\n",
       "      <td>Cloud Based Legal Accounts, Practice and Case Management.</td>\n",
       "      <td>{}</td>\n",
       "      <td>False</td>\n",
       "      <td>NN</td>\n",
       "      <td>a strategic partner of the law society, company is a legal accounts, practice management and case management cloud based software solution.</td>\n",
       "      <td>cloud based legal accounts, practice and case management.</td>\n",
       "    </tr>\n",
       "    <tr>\n",
       "      <th>4</th>\n",
       "      <td>&lt;company&gt; Valve is a leading American supplier in the hose coupling industry, headquartered in Chestertown, MD with distribution centers around the globe.</td>\n",
       "      <td>Industrial Hose Coupling Supplier</td>\n",
       "      <td>headline</td>\n",
       "      <td>dixon group europe ltd</td>\n",
       "      <td>wholesale</td>\n",
       "      <td>dixoneurope.co.uk</td>\n",
       "      <td>Dixon</td>\n",
       "      <td>&lt;company&gt; Valve is a leading [national] supplier in the hose coupling industry, headquartered in [country], [country1] with distribution centers around the globe.</td>\n",
       "      <td>Industrial Hose Coupling Supplier</td>\n",
       "      <td>{'[national]': 'American', '[country]': 'Chestertown', '[country1]': 'MD'}</td>\n",
       "      <td>False</td>\n",
       "      <td>NN</td>\n",
       "      <td>company valve is a leading american supplier in the hose coupling industry, headquartered in chestertown, md with distribution centers around the globe.</td>\n",
       "      <td>industrial hose coupling supplier</td>\n",
       "    </tr>\n",
       "  </tbody>\n",
       "</table>\n",
       "</div>"
      ],
      "text/plain": [
       "                                                                                                                                                         desc  \\\n",
       "0   Our expert team of Analytical Chemists provide eLiquid analysis & manufacturing services, ensuring full regulatory compliance for the e-cigarette market.   \n",
       "1         <company> is West Michigan's full service backline rental, audio, and production resource, equipped to serve the Midwest and beyond. (616) 735-9049   \n",
       "2        From placing entire software engineering teams to integrating easily into your current team, we offer bespoke placements of the very best engineers.   \n",
       "3               A Strategic Partner of The Law Society, <company> is a Legal Accounts, Practice Management and Case Management cloud based software solution.   \n",
       "4  <company> Valve is a leading American supplier in the hose coupling industry, headquartered in Chestertown, MD with distribution centers around the globe.   \n",
       "\n",
       "                                                      output           type  \\\n",
       "0                                        E-Liquid Testing UK       headline   \n",
       "1                Great Performances Start With Great Service  headline_long   \n",
       "2                    Software Development Consultancy London       headline   \n",
       "3  Cloud Based Legal Accounts, Practice and Case Management.  headline_long   \n",
       "4                          Industrial Hose Coupling Supplier       headline   \n",
       "\n",
       "                       company                             industry  \\\n",
       "0                   el-science                            chemicals   \n",
       "1       on stage services inc.                      events services   \n",
       "2                 build circle  information technology and services   \n",
       "3  insight legal software ltd.                    computer software   \n",
       "4       dixon group europe ltd                            wholesale   \n",
       "\n",
       "                   url                   alias  \\\n",
       "0      elscience.co.uk                     NaN   \n",
       "1  onstageservices.com       On Stage Services   \n",
       "2    buildcircle.co.uk            Build Circle   \n",
       "3   insightlegal.co.uk  Insight Legal Software   \n",
       "4    dixoneurope.co.uk                   Dixon   \n",
       "\n",
       "                                                                                                                                                          desc_masked  \\\n",
       "0           Our expert team of Analytical Chemists provide eLiquid analysis & manufacturing services, ensuring full regulatory compliance for the e-cigarette market.   \n",
       "1                    <company> is [country] full service backline rental, audio, and production resource, equipped to serve the [location] and beyond. (616) 735-9049   \n",
       "2                From placing entire software engineering teams to integrating easily into your current team, we offer bespoke placements of the very best engineers.   \n",
       "3                       A Strategic Partner of The Law Society, <company> is a Legal Accounts, Practice Management and Case Management cloud based software solution.   \n",
       "4  <company> Valve is a leading [national] supplier in the hose coupling industry, headquartered in [country], [country1] with distribution centers around the globe.   \n",
       "\n",
       "                                               output_masked  \\\n",
       "0                               E-Liquid Testing [u:country]   \n",
       "1                Great Performances Start With Great Service   \n",
       "2               Software Development Consultancy [u:country]   \n",
       "3  Cloud Based Legal Accounts, Practice and Case Management.   \n",
       "4                          Industrial Hose Coupling Supplier   \n",
       "\n",
       "                                                                     ent_dict  \\\n",
       "0                                                       {'[u:country]': 'UK'}   \n",
       "1                   {'[country]': \"West Michigan's\", '[location]': 'Midwest'}   \n",
       "2                                                   {'[u:country]': 'London'}   \n",
       "3                                                                          {}   \n",
       "4  {'[national]': 'American', '[country]': 'Chestertown', '[country1]': 'MD'}   \n",
       "\n",
       "   unsupported first_pos  \\\n",
       "0         True        JJ   \n",
       "1        False        JJ   \n",
       "2         True        NN   \n",
       "3        False        NN   \n",
       "4        False        NN   \n",
       "\n",
       "                                                                                                                                               desc_cleaned  \\\n",
       "0    our expert team of analytical chemists provide eliquid analysis manufacturing services, ensuring full regulatory compliance for the ecigarette market.   \n",
       "1            company is west michigan's full service backline rental, audio, and production resource, equipped to serve the midwest and beyond. 616 7359049   \n",
       "2      from placing entire software engineering teams to integrating easily into your current team, we offer bespoke placements of the very best engineers.   \n",
       "3               a strategic partner of the law society, company is a legal accounts, practice management and case management cloud based software solution.   \n",
       "4  company valve is a leading american supplier in the hose coupling industry, headquartered in chestertown, md with distribution centers around the globe.   \n",
       "\n",
       "                                              output_cleaned  \n",
       "0                                         eliquid testing uk  \n",
       "1                great performances start with great service  \n",
       "2                    software development consultancy london  \n",
       "3  cloud based legal accounts, practice and case management.  \n",
       "4                          industrial hose coupling supplier  "
      ]
     },
     "execution_count": 11,
     "metadata": {},
     "output_type": "execute_result"
    }
   ],
   "source": [
    "df_test.head()"
   ]
  },
  {
   "cell_type": "code",
   "execution_count": 12,
   "id": "c8e2988e-ca74-41f3-8d79-d699db45eaaa",
   "metadata": {
    "id": "c8e2988e-ca74-41f3-8d79-d699db45eaaa",
    "tags": []
   },
   "outputs": [],
   "source": [
    "from transformers import BartTokenizer\n",
    "import numpy as np\n",
    "\n",
    "def prepare_data(df, tokenizer: BartTokenizer, max_input_len: int, max_target_len: int):\n",
    "    \"\"\"\n",
    "    Tokenize and prepare inputs/targets using the BART tokenizer.\n",
    "    Returns:\n",
    "      encoder_input_ids: np.ndarray, shape (N, max_input_len)\n",
    "      decoder_input_ids: np.ndarray, shape (N, max_target_len-1)\n",
    "      decoder_target_ids: np.ndarray, shape (N, max_target_len-1)\n",
    "      encoder_attention_mask: np.ndarray, shape (N, max_input_len)\n",
    "      decoder_attention_mask: np.ndarray, shape (N, max_target_len-1)\n",
    "    \"\"\"\n",
    "    # 1) Raw texts\n",
    "    input_texts = df['desc_cleaned'].astype(str).str.lower().tolist()\n",
    "    target_texts = df['output_cleaned'].astype(str).str.lower().tolist()\n",
    "\n",
    "    # 2) Add BOS/EOS for decoder targets\n",
    "    target_texts = [\n",
    "        tokenizer.bos_token + \" \" + t + \" \" + tokenizer.eos_token\n",
    "        for t in target_texts\n",
    "    ]\n",
    "\n",
    "    # 3) Tokenize encoder side\n",
    "    enc = tokenizer(\n",
    "        input_texts,\n",
    "        max_length=max_input_len,\n",
    "        padding='max_length',\n",
    "        truncation=True,\n",
    "        return_tensors='np'        # returns NumPy arrays\n",
    "    )\n",
    "\n",
    "    # 4) Tokenize decoder side\n",
    "    dec = tokenizer(\n",
    "        target_texts,\n",
    "        max_length=max_target_len,\n",
    "        padding='max_length',\n",
    "        truncation=True,\n",
    "        return_tensors='np'\n",
    "    )\n",
    "\n",
    "    # 5) Extract arrays\n",
    "    encoder_input_ids      = enc['input_ids']                       # (N, max_input_len)\n",
    "    encoder_attention_mask = enc['attention_mask']                  # (N, max_input_len)\n",
    "\n",
    "    decoder_input_ids      = dec['input_ids'][:, :-1]               # (N, max_target_len-1)\n",
    "    decoder_target_ids     = dec['input_ids'][:, 1:]                # (N, max_target_len-1)\n",
    "    decoder_attention_mask = dec['attention_mask'][:, :-1]          # (N, max_target_len-1)\n",
    "\n",
    "    return (\n",
    "        encoder_input_ids,\n",
    "        decoder_input_ids,\n",
    "        decoder_target_ids,\n",
    "        encoder_attention_mask,\n",
    "        decoder_attention_mask\n",
    "    )"
   ]
  },
  {
   "cell_type": "code",
   "execution_count": 13,
   "id": "d1c4034b-10c2-4721-9fb2-1e8d1ab74abd",
   "metadata": {
    "colab": {
     "base_uri": "https://localhost:8080/"
    },
    "id": "d1c4034b-10c2-4721-9fb2-1e8d1ab74abd",
    "outputId": "f4eb3cae-9e51-4440-e9ac-5a71af4fa0b8",
    "tags": []
   },
   "outputs": [
    {
     "name": "stdout",
     "output_type": "stream",
     "text": [
      "Encoder input shape: (994, 128)\n",
      "Decoder input shape: (994, 31)\n",
      "Decoder target shape: (994, 31)\n"
     ]
    }
   ],
   "source": [
    "tokenizer = BartTokenizer.from_pretrained('facebook/bart-base')\n",
    "encoder_input_ids, decoder_input_ids, decoder_target_ids, encoder_attention_mask, decoder_attention_mask = prepare_data(df, tokenizer, max_input_len = 128, max_target_len = 32)\n",
    "\n",
    "# Example shapes\n",
    "print(\"Encoder input shape:\", encoder_input_ids.shape)\n",
    "print(\"Decoder input shape:\", decoder_input_ids.shape)\n",
    "print(\"Decoder target shape:\", decoder_target_ids.shape)"
   ]
  },
  {
   "cell_type": "code",
   "execution_count": 14,
   "id": "820b1c2f-c472-43ac-82d4-5f01a0048a59",
   "metadata": {
    "colab": {
     "base_uri": "https://localhost:8080/",
     "height": 35
    },
    "id": "820b1c2f-c472-43ac-82d4-5f01a0048a59",
    "outputId": "b7b500d0-b8e5-40f9-ab0c-167e02fe401b",
    "tags": []
   },
   "outputs": [
    {
     "data": {
      "text/plain": [
       "'</s>'"
      ]
     },
     "execution_count": 14,
     "metadata": {},
     "output_type": "execute_result"
    }
   ],
   "source": [
    "tokenizer.eos_token"
   ]
  },
  {
   "cell_type": "code",
   "execution_count": 15,
   "id": "a7ba2825-fdde-415f-9ecd-cc2be4327290",
   "metadata": {
    "colab": {
     "base_uri": "https://localhost:8080/",
     "height": 35
    },
    "id": "a7ba2825-fdde-415f-9ecd-cc2be4327290",
    "outputId": "62f45e34-f0e0-4fb5-db09-2ca576ba10b3",
    "tags": []
   },
   "outputs": [
    {
     "data": {
      "text/plain": [
       "'<s>'"
      ]
     },
     "execution_count": 15,
     "metadata": {},
     "output_type": "execute_result"
    }
   ],
   "source": [
    "tokenizer.bos_token"
   ]
  },
  {
   "cell_type": "code",
   "execution_count": 16,
   "id": "16824150-445c-48df-9bd0-8f268131bab6",
   "metadata": {
    "colab": {
     "base_uri": "https://localhost:8080/"
    },
    "id": "16824150-445c-48df-9bd0-8f268131bab6",
    "outputId": "216dea83-8bea-4d8f-f28d-a5a1ae1f8f9b",
    "tags": []
   },
   "outputs": [
    {
     "data": {
      "text/plain": [
       "50265"
      ]
     },
     "execution_count": 16,
     "metadata": {},
     "output_type": "execute_result"
    }
   ],
   "source": [
    "tokenizer.vocab_size"
   ]
  },
  {
   "cell_type": "markdown",
   "id": "40729991-c57b-4c3b-b34d-d75a2ef35017",
   "metadata": {
    "id": "40729991-c57b-4c3b-b34d-d75a2ef35017"
   },
   "source": [
    "# Encoder-Decoder LSTM Architecture"
   ]
  },
  {
   "cell_type": "code",
   "execution_count": 17,
   "id": "b70c27a6-d806-4fb6-ad2a-406027cad872",
   "metadata": {
    "id": "b70c27a6-d806-4fb6-ad2a-406027cad872",
    "tags": []
   },
   "outputs": [],
   "source": [
    "# Simplified version of build_model_with_attention without attention\n",
    "def build_seq2seq_model(variant, input_vocab_size, target_vocab_size,\n",
    "                        max_input_len, max_target_len,\n",
    "                        embedding_dim=128, lstm_units=256):\n",
    "\n",
    "    # Encoder\n",
    "    encoder_inputs = Input(shape=(max_input_len,), batch_size = 64, name=\"encoder_inputs\")\n",
    "    encoder_embed = Embedding(input_vocab_size, embedding_dim, name=\"encoder_embedding\")(encoder_inputs)\n",
    "\n",
    "    if variant == \"1-layer\":\n",
    "        encoder_outputs, state_h, state_c = LSTM(lstm_units, return_state=True, name=\"encoder_lstm\")(encoder_embed)\n",
    "        encoder_states = [state_h, state_c]\n",
    "\n",
    "    elif variant == \"2-layer\":\n",
    "        l1, _, _ = LSTM(lstm_units, return_sequences=True, return_state=True, name=\"encoder_lstm_1\")(encoder_embed)\n",
    "        encoder_outputs, state_h, state_c = LSTM(lstm_units, return_state=True, name=\"encoder_lstm_2\")(l1)\n",
    "        encoder_states = [state_h, state_c]\n",
    "\n",
    "    elif variant == \"bilstm\":\n",
    "        bi_lstm = Bidirectional(LSTM(lstm_units, return_state=True), name=\"encoder_bilstm\")\n",
    "        encoder_outputs, fwd_h, fwd_c, bwd_h, bwd_c = bi_lstm(encoder_embed)\n",
    "        state_h = Concatenate(name=\"concat_h\")([fwd_h, bwd_h])\n",
    "        state_c = Concatenate(name=\"concat_c\")([fwd_c, bwd_c])\n",
    "        encoder_states = [state_h, state_c]\n",
    "        lstm_units *= 2\n",
    "\n",
    "    else:\n",
    "        raise ValueError(\"Unknown model variant\")\n",
    "\n",
    "    # Decoder\n",
    "    decoder_inputs = Input(shape=(max_target_len - 1,), batch_size = 64, name=\"decoder_inputs\")\n",
    "    decoder_embed = Embedding(target_vocab_size, embedding_dim, name=\"decoder_embedding\")(decoder_inputs)\n",
    "\n",
    "    decoder_lstm = LSTM(lstm_units, return_sequences=True, return_state=True, name=\"decoder_lstm\")\n",
    "    decoder_outputs, _, _ = decoder_lstm(decoder_embed, initial_state=encoder_states)\n",
    "\n",
    "    decoder_dropout = Dropout(0.3)(decoder_outputs)\n",
    "    decoder_dense = Dense(target_vocab_size, activation='softmax', name=\"decoder_dense\")\n",
    "    decoder_outputs = decoder_dense(decoder_dropout)\n",
    "\n",
    "    model = Model([encoder_inputs, decoder_inputs], decoder_outputs, name=f\"seq2seq_{variant}\")\n",
    "    model.compile(optimizer=\"adam\", loss=\"sparse_categorical_crossentropy\", metrics=[\"accuracy\"])\n",
    "    return model"
   ]
  },
  {
   "cell_type": "code",
   "execution_count": 18,
   "id": "30f3a312-3192-43a6-a791-4b14d928219e",
   "metadata": {
    "colab": {
     "base_uri": "https://localhost:8080/",
     "height": 600
    },
    "id": "30f3a312-3192-43a6-a791-4b14d928219e",
    "outputId": "5c4c16a1-3a20-47df-be4c-5b91fc026f77",
    "tags": []
   },
   "outputs": [
    {
     "name": "stderr",
     "output_type": "stream",
     "text": [
      "I0000 00:00:1748293630.886734   38362 gpu_device.cc:2019] Created device /job:localhost/replica:0/task:0/device:GPU:0 with 13764 MB memory:  -> device: 0, name: Tesla T4, pci bus id: 0000:00:04.0, compute capability: 7.5\n"
     ]
    },
    {
     "data": {
      "text/html": [
       "<pre style=\"white-space:pre;overflow-x:auto;line-height:normal;font-family:Menlo,'DejaVu Sans Mono',consolas,'Courier New',monospace\"><span style=\"font-weight: bold\">Model: \"seq2seq_bilstm\"</span>\n",
       "</pre>\n"
      ],
      "text/plain": [
       "\u001b[1mModel: \"seq2seq_bilstm\"\u001b[0m\n"
      ]
     },
     "metadata": {},
     "output_type": "display_data"
    },
    {
     "data": {
      "text/html": [
       "<pre style=\"white-space:pre;overflow-x:auto;line-height:normal;font-family:Menlo,'DejaVu Sans Mono',consolas,'Courier New',monospace\">┏━━━━━━━━━━━━━━━━━━━━━┳━━━━━━━━━━━━━━━━━━━┳━━━━━━━━━━━━┳━━━━━━━━━━━━━━━━━━━┓\n",
       "┃<span style=\"font-weight: bold\"> Layer (type)        </span>┃<span style=\"font-weight: bold\"> Output Shape      </span>┃<span style=\"font-weight: bold\">    Param # </span>┃<span style=\"font-weight: bold\"> Connected to      </span>┃\n",
       "┡━━━━━━━━━━━━━━━━━━━━━╇━━━━━━━━━━━━━━━━━━━╇━━━━━━━━━━━━╇━━━━━━━━━━━━━━━━━━━┩\n",
       "│ encoder_inputs      │ (<span style=\"color: #00af00; text-decoration-color: #00af00\">64</span>, <span style=\"color: #00af00; text-decoration-color: #00af00\">128</span>)         │          <span style=\"color: #00af00; text-decoration-color: #00af00\">0</span> │ -                 │\n",
       "│ (<span style=\"color: #0087ff; text-decoration-color: #0087ff\">InputLayer</span>)        │                   │            │                   │\n",
       "├─────────────────────┼───────────────────┼────────────┼───────────────────┤\n",
       "│ encoder_embedding   │ (<span style=\"color: #00af00; text-decoration-color: #00af00\">64</span>, <span style=\"color: #00af00; text-decoration-color: #00af00\">128</span>, <span style=\"color: #00af00; text-decoration-color: #00af00\">128</span>)    │  <span style=\"color: #00af00; text-decoration-color: #00af00\">6,433,920</span> │ encoder_inputs[<span style=\"color: #00af00; text-decoration-color: #00af00\">0</span>… │\n",
       "│ (<span style=\"color: #0087ff; text-decoration-color: #0087ff\">Embedding</span>)         │                   │            │                   │\n",
       "├─────────────────────┼───────────────────┼────────────┼───────────────────┤\n",
       "│ decoder_inputs      │ (<span style=\"color: #00af00; text-decoration-color: #00af00\">64</span>, <span style=\"color: #00af00; text-decoration-color: #00af00\">31</span>)          │          <span style=\"color: #00af00; text-decoration-color: #00af00\">0</span> │ -                 │\n",
       "│ (<span style=\"color: #0087ff; text-decoration-color: #0087ff\">InputLayer</span>)        │                   │            │                   │\n",
       "├─────────────────────┼───────────────────┼────────────┼───────────────────┤\n",
       "│ encoder_bilstm      │ [(<span style=\"color: #00af00; text-decoration-color: #00af00\">64</span>, <span style=\"color: #00af00; text-decoration-color: #00af00\">512</span>), (<span style=\"color: #00af00; text-decoration-color: #00af00\">64</span>,  │    <span style=\"color: #00af00; text-decoration-color: #00af00\">788,480</span> │ encoder_embeddin… │\n",
       "│ (<span style=\"color: #0087ff; text-decoration-color: #0087ff\">Bidirectional</span>)     │ <span style=\"color: #00af00; text-decoration-color: #00af00\">256</span>), (<span style=\"color: #00af00; text-decoration-color: #00af00\">64</span>, <span style=\"color: #00af00; text-decoration-color: #00af00\">256</span>),  │            │                   │\n",
       "│                     │ (<span style=\"color: #00af00; text-decoration-color: #00af00\">64</span>, <span style=\"color: #00af00; text-decoration-color: #00af00\">256</span>), (<span style=\"color: #00af00; text-decoration-color: #00af00\">64</span>,   │            │                   │\n",
       "│                     │ <span style=\"color: #00af00; text-decoration-color: #00af00\">256</span>)]             │            │                   │\n",
       "├─────────────────────┼───────────────────┼────────────┼───────────────────┤\n",
       "│ decoder_embedding   │ (<span style=\"color: #00af00; text-decoration-color: #00af00\">64</span>, <span style=\"color: #00af00; text-decoration-color: #00af00\">31</span>, <span style=\"color: #00af00; text-decoration-color: #00af00\">128</span>)     │  <span style=\"color: #00af00; text-decoration-color: #00af00\">6,433,920</span> │ decoder_inputs[<span style=\"color: #00af00; text-decoration-color: #00af00\">0</span>… │\n",
       "│ (<span style=\"color: #0087ff; text-decoration-color: #0087ff\">Embedding</span>)         │                   │            │                   │\n",
       "├─────────────────────┼───────────────────┼────────────┼───────────────────┤\n",
       "│ concat_h            │ (<span style=\"color: #00af00; text-decoration-color: #00af00\">64</span>, <span style=\"color: #00af00; text-decoration-color: #00af00\">512</span>)         │          <span style=\"color: #00af00; text-decoration-color: #00af00\">0</span> │ encoder_bilstm[<span style=\"color: #00af00; text-decoration-color: #00af00\">0</span>… │\n",
       "│ (<span style=\"color: #0087ff; text-decoration-color: #0087ff\">Concatenate</span>)       │                   │            │ encoder_bilstm[<span style=\"color: #00af00; text-decoration-color: #00af00\">0</span>… │\n",
       "├─────────────────────┼───────────────────┼────────────┼───────────────────┤\n",
       "│ concat_c            │ (<span style=\"color: #00af00; text-decoration-color: #00af00\">64</span>, <span style=\"color: #00af00; text-decoration-color: #00af00\">512</span>)         │          <span style=\"color: #00af00; text-decoration-color: #00af00\">0</span> │ encoder_bilstm[<span style=\"color: #00af00; text-decoration-color: #00af00\">0</span>… │\n",
       "│ (<span style=\"color: #0087ff; text-decoration-color: #0087ff\">Concatenate</span>)       │                   │            │ encoder_bilstm[<span style=\"color: #00af00; text-decoration-color: #00af00\">0</span>… │\n",
       "├─────────────────────┼───────────────────┼────────────┼───────────────────┤\n",
       "│ decoder_lstm (<span style=\"color: #0087ff; text-decoration-color: #0087ff\">LSTM</span>) │ [(<span style=\"color: #00af00; text-decoration-color: #00af00\">64</span>, <span style=\"color: #00af00; text-decoration-color: #00af00\">31</span>, <span style=\"color: #00af00; text-decoration-color: #00af00\">512</span>),   │  <span style=\"color: #00af00; text-decoration-color: #00af00\">1,312,768</span> │ decoder_embeddin… │\n",
       "│                     │ (<span style=\"color: #00af00; text-decoration-color: #00af00\">64</span>, <span style=\"color: #00af00; text-decoration-color: #00af00\">512</span>), (<span style=\"color: #00af00; text-decoration-color: #00af00\">64</span>,   │            │ concat_h[<span style=\"color: #00af00; text-decoration-color: #00af00\">0</span>][<span style=\"color: #00af00; text-decoration-color: #00af00\">0</span>],   │\n",
       "│                     │ <span style=\"color: #00af00; text-decoration-color: #00af00\">512</span>)]             │            │ concat_c[<span style=\"color: #00af00; text-decoration-color: #00af00\">0</span>][<span style=\"color: #00af00; text-decoration-color: #00af00\">0</span>]    │\n",
       "├─────────────────────┼───────────────────┼────────────┼───────────────────┤\n",
       "│ dropout (<span style=\"color: #0087ff; text-decoration-color: #0087ff\">Dropout</span>)   │ (<span style=\"color: #00af00; text-decoration-color: #00af00\">64</span>, <span style=\"color: #00af00; text-decoration-color: #00af00\">31</span>, <span style=\"color: #00af00; text-decoration-color: #00af00\">512</span>)     │          <span style=\"color: #00af00; text-decoration-color: #00af00\">0</span> │ decoder_lstm[<span style=\"color: #00af00; text-decoration-color: #00af00\">0</span>][<span style=\"color: #00af00; text-decoration-color: #00af00\">…</span> │\n",
       "├─────────────────────┼───────────────────┼────────────┼───────────────────┤\n",
       "│ decoder_dense       │ (<span style=\"color: #00af00; text-decoration-color: #00af00\">64</span>, <span style=\"color: #00af00; text-decoration-color: #00af00\">31</span>, <span style=\"color: #00af00; text-decoration-color: #00af00\">50265</span>)   │ <span style=\"color: #00af00; text-decoration-color: #00af00\">25,785,945</span> │ dropout[<span style=\"color: #00af00; text-decoration-color: #00af00\">0</span>][<span style=\"color: #00af00; text-decoration-color: #00af00\">0</span>]     │\n",
       "│ (<span style=\"color: #0087ff; text-decoration-color: #0087ff\">Dense</span>)             │                   │            │                   │\n",
       "└─────────────────────┴───────────────────┴────────────┴───────────────────┘\n",
       "</pre>\n"
      ],
      "text/plain": [
       "┏━━━━━━━━━━━━━━━━━━━━━┳━━━━━━━━━━━━━━━━━━━┳━━━━━━━━━━━━┳━━━━━━━━━━━━━━━━━━━┓\n",
       "┃\u001b[1m \u001b[0m\u001b[1mLayer (type)       \u001b[0m\u001b[1m \u001b[0m┃\u001b[1m \u001b[0m\u001b[1mOutput Shape     \u001b[0m\u001b[1m \u001b[0m┃\u001b[1m \u001b[0m\u001b[1m   Param #\u001b[0m\u001b[1m \u001b[0m┃\u001b[1m \u001b[0m\u001b[1mConnected to     \u001b[0m\u001b[1m \u001b[0m┃\n",
       "┡━━━━━━━━━━━━━━━━━━━━━╇━━━━━━━━━━━━━━━━━━━╇━━━━━━━━━━━━╇━━━━━━━━━━━━━━━━━━━┩\n",
       "│ encoder_inputs      │ (\u001b[38;5;34m64\u001b[0m, \u001b[38;5;34m128\u001b[0m)         │          \u001b[38;5;34m0\u001b[0m │ -                 │\n",
       "│ (\u001b[38;5;33mInputLayer\u001b[0m)        │                   │            │                   │\n",
       "├─────────────────────┼───────────────────┼────────────┼───────────────────┤\n",
       "│ encoder_embedding   │ (\u001b[38;5;34m64\u001b[0m, \u001b[38;5;34m128\u001b[0m, \u001b[38;5;34m128\u001b[0m)    │  \u001b[38;5;34m6,433,920\u001b[0m │ encoder_inputs[\u001b[38;5;34m0\u001b[0m… │\n",
       "│ (\u001b[38;5;33mEmbedding\u001b[0m)         │                   │            │                   │\n",
       "├─────────────────────┼───────────────────┼────────────┼───────────────────┤\n",
       "│ decoder_inputs      │ (\u001b[38;5;34m64\u001b[0m, \u001b[38;5;34m31\u001b[0m)          │          \u001b[38;5;34m0\u001b[0m │ -                 │\n",
       "│ (\u001b[38;5;33mInputLayer\u001b[0m)        │                   │            │                   │\n",
       "├─────────────────────┼───────────────────┼────────────┼───────────────────┤\n",
       "│ encoder_bilstm      │ [(\u001b[38;5;34m64\u001b[0m, \u001b[38;5;34m512\u001b[0m), (\u001b[38;5;34m64\u001b[0m,  │    \u001b[38;5;34m788,480\u001b[0m │ encoder_embeddin… │\n",
       "│ (\u001b[38;5;33mBidirectional\u001b[0m)     │ \u001b[38;5;34m256\u001b[0m), (\u001b[38;5;34m64\u001b[0m, \u001b[38;5;34m256\u001b[0m),  │            │                   │\n",
       "│                     │ (\u001b[38;5;34m64\u001b[0m, \u001b[38;5;34m256\u001b[0m), (\u001b[38;5;34m64\u001b[0m,   │            │                   │\n",
       "│                     │ \u001b[38;5;34m256\u001b[0m)]             │            │                   │\n",
       "├─────────────────────┼───────────────────┼────────────┼───────────────────┤\n",
       "│ decoder_embedding   │ (\u001b[38;5;34m64\u001b[0m, \u001b[38;5;34m31\u001b[0m, \u001b[38;5;34m128\u001b[0m)     │  \u001b[38;5;34m6,433,920\u001b[0m │ decoder_inputs[\u001b[38;5;34m0\u001b[0m… │\n",
       "│ (\u001b[38;5;33mEmbedding\u001b[0m)         │                   │            │                   │\n",
       "├─────────────────────┼───────────────────┼────────────┼───────────────────┤\n",
       "│ concat_h            │ (\u001b[38;5;34m64\u001b[0m, \u001b[38;5;34m512\u001b[0m)         │          \u001b[38;5;34m0\u001b[0m │ encoder_bilstm[\u001b[38;5;34m0\u001b[0m… │\n",
       "│ (\u001b[38;5;33mConcatenate\u001b[0m)       │                   │            │ encoder_bilstm[\u001b[38;5;34m0\u001b[0m… │\n",
       "├─────────────────────┼───────────────────┼────────────┼───────────────────┤\n",
       "│ concat_c            │ (\u001b[38;5;34m64\u001b[0m, \u001b[38;5;34m512\u001b[0m)         │          \u001b[38;5;34m0\u001b[0m │ encoder_bilstm[\u001b[38;5;34m0\u001b[0m… │\n",
       "│ (\u001b[38;5;33mConcatenate\u001b[0m)       │                   │            │ encoder_bilstm[\u001b[38;5;34m0\u001b[0m… │\n",
       "├─────────────────────┼───────────────────┼────────────┼───────────────────┤\n",
       "│ decoder_lstm (\u001b[38;5;33mLSTM\u001b[0m) │ [(\u001b[38;5;34m64\u001b[0m, \u001b[38;5;34m31\u001b[0m, \u001b[38;5;34m512\u001b[0m),   │  \u001b[38;5;34m1,312,768\u001b[0m │ decoder_embeddin… │\n",
       "│                     │ (\u001b[38;5;34m64\u001b[0m, \u001b[38;5;34m512\u001b[0m), (\u001b[38;5;34m64\u001b[0m,   │            │ concat_h[\u001b[38;5;34m0\u001b[0m][\u001b[38;5;34m0\u001b[0m],   │\n",
       "│                     │ \u001b[38;5;34m512\u001b[0m)]             │            │ concat_c[\u001b[38;5;34m0\u001b[0m][\u001b[38;5;34m0\u001b[0m]    │\n",
       "├─────────────────────┼───────────────────┼────────────┼───────────────────┤\n",
       "│ dropout (\u001b[38;5;33mDropout\u001b[0m)   │ (\u001b[38;5;34m64\u001b[0m, \u001b[38;5;34m31\u001b[0m, \u001b[38;5;34m512\u001b[0m)     │          \u001b[38;5;34m0\u001b[0m │ decoder_lstm[\u001b[38;5;34m0\u001b[0m][\u001b[38;5;34m…\u001b[0m │\n",
       "├─────────────────────┼───────────────────┼────────────┼───────────────────┤\n",
       "│ decoder_dense       │ (\u001b[38;5;34m64\u001b[0m, \u001b[38;5;34m31\u001b[0m, \u001b[38;5;34m50265\u001b[0m)   │ \u001b[38;5;34m25,785,945\u001b[0m │ dropout[\u001b[38;5;34m0\u001b[0m][\u001b[38;5;34m0\u001b[0m]     │\n",
       "│ (\u001b[38;5;33mDense\u001b[0m)             │                   │            │                   │\n",
       "└─────────────────────┴───────────────────┴────────────┴───────────────────┘\n"
      ]
     },
     "metadata": {},
     "output_type": "display_data"
    },
    {
     "data": {
      "text/html": [
       "<pre style=\"white-space:pre;overflow-x:auto;line-height:normal;font-family:Menlo,'DejaVu Sans Mono',consolas,'Courier New',monospace\"><span style=\"font-weight: bold\"> Total params: </span><span style=\"color: #00af00; text-decoration-color: #00af00\">40,755,033</span> (155.47 MB)\n",
       "</pre>\n"
      ],
      "text/plain": [
       "\u001b[1m Total params: \u001b[0m\u001b[38;5;34m40,755,033\u001b[0m (155.47 MB)\n"
      ]
     },
     "metadata": {},
     "output_type": "display_data"
    },
    {
     "data": {
      "text/html": [
       "<pre style=\"white-space:pre;overflow-x:auto;line-height:normal;font-family:Menlo,'DejaVu Sans Mono',consolas,'Courier New',monospace\"><span style=\"font-weight: bold\"> Trainable params: </span><span style=\"color: #00af00; text-decoration-color: #00af00\">40,755,033</span> (155.47 MB)\n",
       "</pre>\n"
      ],
      "text/plain": [
       "\u001b[1m Trainable params: \u001b[0m\u001b[38;5;34m40,755,033\u001b[0m (155.47 MB)\n"
      ]
     },
     "metadata": {},
     "output_type": "display_data"
    },
    {
     "data": {
      "text/html": [
       "<pre style=\"white-space:pre;overflow-x:auto;line-height:normal;font-family:Menlo,'DejaVu Sans Mono',consolas,'Courier New',monospace\"><span style=\"font-weight: bold\"> Non-trainable params: </span><span style=\"color: #00af00; text-decoration-color: #00af00\">0</span> (0.00 B)\n",
       "</pre>\n"
      ],
      "text/plain": [
       "\u001b[1m Non-trainable params: \u001b[0m\u001b[38;5;34m0\u001b[0m (0.00 B)\n"
      ]
     },
     "metadata": {},
     "output_type": "display_data"
    }
   ],
   "source": [
    "vocab_size = tokenizer.vocab_size\n",
    "model_bilstm_layer = build_seq2seq_model(\"bilstm\",\n",
    "                           input_vocab_size = vocab_size,\n",
    "                           target_vocab_size = vocab_size,\n",
    "                           max_input_len = 128,\n",
    "                           max_target_len = 32,\n",
    "                           embedding_dim=128,\n",
    "                           lstm_units=256)\n",
    "\n",
    "model_bilstm_layer.summary()"
   ]
  },
  {
   "cell_type": "markdown",
   "id": "d43dfc79-f374-4a16-b4a8-09fd4fad3caa",
   "metadata": {},
   "source": [
    "# Encoder-Decoder LSTM with Attention Layer Architecture"
   ]
  },
  {
   "cell_type": "code",
   "execution_count": 21,
   "id": "ef0371e8-8248-4c2a-9a8f-8e54114c5d04",
   "metadata": {
    "tags": []
   },
   "outputs": [],
   "source": [
    "class BahdanauAttention(tf.keras.layers.Layer):\n",
    "    def __init__(self, units):\n",
    "        super().__init__()\n",
    "        self.W1 = Dense(units)\n",
    "        self.W2 = Dense(units)\n",
    "        self.V  = Dense(1)\n",
    "\n",
    "    def call(self, enc_out, dec_h):\n",
    "        # enc_out: (batch, T, H), dec_h: (batch, H)\n",
    "        dec_h_exp = tf.expand_dims(dec_h, 1)                # (batch, 1, H)\n",
    "        score     = tf.nn.tanh(self.W1(enc_out) + self.W2(dec_h_exp))\n",
    "        weights   = tf.nn.softmax(self.V(score), axis=1)    # (batch, T, 1)\n",
    "        context   = tf.reduce_sum(weights * enc_out, axis=1)  # (batch, H)\n",
    "        return context, weights"
   ]
  },
  {
   "cell_type": "code",
   "execution_count": 39,
   "id": "fda85b8a-305e-4376-a810-1f528e956c80",
   "metadata": {
    "tags": []
   },
   "outputs": [],
   "source": [
    "def build_seq2seq_model_with_attention(variant, \n",
    "                                       input_vocab_size, \n",
    "                                       target_vocab_size,\n",
    "                                       max_input_len, \n",
    "                                       max_target_len,\n",
    "                                       embedding_dim=128, \n",
    "                                       lstm_units=256,\n",
    "                                       attention_units=256):\n",
    "\n",
    "    # Encoder\n",
    "    encoder_inputs = Input(shape=(max_input_len,), name=\"encoder_inputs\")\n",
    "    encoder_embed = Embedding(input_vocab_size, embedding_dim, name=\"encoder_embedding\")(encoder_inputs)\n",
    "\n",
    "    if variant == \"1-layer\":\n",
    "        encoder_outputs, state_h, state_c = LSTM(lstm_units, return_state=True, name=\"encoder_lstm\")(encoder_embed)\n",
    "        encoder_states = [state_h, state_c]\n",
    "\n",
    "    elif variant == \"2-layer\":\n",
    "        l1, _, _ = LSTM(lstm_units, return_sequences=True, return_state=True, name=\"encoder_lstm_1\")(encoder_embed)\n",
    "        encoder_outputs, state_h, state_c = LSTM(lstm_units, return_state=True, name=\"encoder_lstm_2\")(l1)\n",
    "        encoder_states = [state_h, state_c]\n",
    "\n",
    "    elif variant == \"bilstm\":\n",
    "        bi_lstm = Bidirectional(LSTM(lstm_units, return_state=True), name=\"encoder_bilstm\")\n",
    "        encoder_outputs, fwd_h, fwd_c, bwd_h, bwd_c = bi_lstm(encoder_embed)\n",
    "        state_h = Concatenate(name=\"concat_h\")([fwd_h, bwd_h])\n",
    "        state_c = Concatenate(name=\"concat_c\")([fwd_c, bwd_c])\n",
    "        encoder_states = [state_h, state_c]\n",
    "        lstm_units *= 2\n",
    "\n",
    "    else:\n",
    "        raise ValueError(\"Unknown model variant\")\n",
    "\n",
    "    # Decoder\n",
    "    decoder_inputs = Input(shape=(max_target_len - 1,), name=\"decoder_inputs\")\n",
    "    decoder_embed = Embedding(target_vocab_size, embedding_dim, name=\"decoder_embedding\")(decoder_inputs)\n",
    "    \n",
    "    attention = BahdanauAttention(attention_units)\n",
    "    decoder_lstm = LSTM(lstm_units, return_sequences=True, return_state=True, name=\"decoder_lstm\")\n",
    "    \n",
    "    all_outs = []\n",
    "    state_h, state_c = encoder_states\n",
    "\n",
    "    for t in range(max_target_len-1):\n",
    "        # slice out timestep t\n",
    "        x_t = Lambda(lambda x: x[:, t:t+1, :])(decoder_embed)   # (batch,1,emb)\n",
    "        # compute attention over encoder outputs\n",
    "        ctx, _ = attention(encoder_outputs, state_h)                    # ctx: (batch, H)\n",
    "        ctx   = Lambda(lambda x: tf.expand_dims(x,1))(ctx)  # (batch,1,H)\n",
    "        # concat and run one LSTM step\n",
    "        lstm_input = Concatenate(axis=-1)([x_t, ctx])     # (batch,1, emb+H)\n",
    "        out, state_h, state_c   = decoder_lstm(lstm_input, initial_state=[state_h, state_c])\n",
    "        all_outs.append(out)\n",
    "        \n",
    "    decoder_concat = Concatenate(axis=1)(all_outs)\n",
    "    decoder_dropout = Dropout(0.3)(decoder_concat)\n",
    "    decoder_dense = Dense(target_vocab_size, activation='softmax', name=\"decoder_dense\")\n",
    "    decoder_outputs = decoder_dense(decoder_dropout)\n",
    "\n",
    "    model = Model([encoder_inputs, decoder_inputs], decoder_outputs, name=f\"seq2seq_{variant}_attn\")\n",
    "    model.compile(optimizer=\"adam\", loss=\"sparse_categorical_crossentropy\", metrics=[\"accuracy\"])\n",
    "    return model"
   ]
  },
  {
   "cell_type": "markdown",
   "id": "d1f2adb0-f25c-4762-8bb4-ef757c0ce826",
   "metadata": {
    "id": "d1f2adb0-f25c-4762-8bb4-ef757c0ce826"
   },
   "source": [
    "# Train Data"
   ]
  },
  {
   "cell_type": "code",
   "execution_count": 40,
   "id": "46775e38-3753-4b68-baac-dce6c1503ea4",
   "metadata": {
    "id": "46775e38-3753-4b68-baac-dce6c1503ea4",
    "tags": []
   },
   "outputs": [],
   "source": [
    "def run_all_variants(df_train, \n",
    "                     df_test, \n",
    "                     tokenizer,\n",
    "                     max_input_len=128, \n",
    "                     max_target_len=32,\n",
    "                     use_attention=False\n",
    "                    ):\n",
    "    \"\"\"\n",
    "    Train and evaluate 1-layer, 2-layer, and BiLSTM seq2seq models\n",
    "    on the given train/test DataFrames.\n",
    "    \"\"\"\n",
    "    # Prepare data helper (must be defined elsewhere)\n",
    "    # build_seq2seq_model must be defined elsewhere\n",
    "\n",
    "    vocab_size = tokenizer.vocab_size\n",
    "    smoothie   = SmoothingFunction().method4\n",
    "    rouge      = rouge_scorer.RougeScorer(['rouge1','rouge2','rougeL'],\n",
    "                                          use_stemmer=True)\n",
    "    results = []\n",
    "\n",
    "    # Prepare test inputs once\n",
    "    enc_test, dec_in_test, dec_tgt_test, _ , _ = prepare_data(\n",
    "        df_test, tokenizer, max_input_len, max_target_len\n",
    "    )\n",
    "\n",
    "    # Select the first 4 rows to preview\n",
    "    preview_df = df_test.iloc[:4][['desc_cleaned', 'output_cleaned']]\n",
    "\n",
    "    for variant in ['1-layer','2-layer','bilstm']:\n",
    "        print(f\"\\n▶️ Training {variant}\")\n",
    "        if use_attention:\n",
    "            model = build_seq2seq_model_with_attention(\n",
    "            variant, vocab_size, vocab_size,\n",
    "            max_input_len, max_target_len,\n",
    "            attention_units=256)\n",
    "        else:\n",
    "            model = build_seq2seq_model(\n",
    "            variant, vocab_size, vocab_size,\n",
    "            max_input_len, max_target_len)\n",
    "\n",
    "        # prepare train data\n",
    "        enc_train, dec_in_train, dec_tgt_train, _ , _  = prepare_data(\n",
    "            df_train, tokenizer, max_input_len, max_target_len\n",
    "        )\n",
    "        dec_tgt_train = np.expand_dims(dec_tgt_train, -1)\n",
    "\n",
    "        # train\n",
    "        ckpt_path = f\"best_{variant}.keras\"\n",
    "        # ckpt_path = os.path.join(save_dir, f\"best_{variant}.keras\")\n",
    "        history = model.fit(\n",
    "            [enc_train, dec_in_train], dec_tgt_train,\n",
    "            validation_split=0.2,\n",
    "            epochs=50,\n",
    "            batch_size=64,\n",
    "            callbacks=[EarlyStopping('val_loss', patience=5, restore_best_weights=True),\n",
    "                       ModelCheckpoint(ckpt_path, save_best_only=True)],\n",
    "            verbose=1\n",
    "        )\n",
    "\n",
    "        # Save history to JSON\n",
    "        # hist_path = os.path.join(save_dir, f\"history_{variant}.json\")\n",
    "        hist_path = f\"history_{variant}.json\"\n",
    "        with open(hist_path, 'w') as f:\n",
    "            json.dump(history.history, f)\n",
    "        print(f\"Saved training history to {hist_path}\")\n",
    "\n",
    "        # build encoder for inference\n",
    "        if variant == '1-layer':\n",
    "            # single LSTM encoder\n",
    "            enc_layer = model.get_layer('encoder_lstm')\n",
    "            # enc_layer.output = [encoder_output, state_h, state_c]\n",
    "            encoder_model = Model(model.input[0], enc_layer.output[1:])\n",
    "\n",
    "        elif variant == '2-layer':\n",
    "            # two‐layer encoder, take the second LSTM’s states\n",
    "            enc_layer = model.get_layer('encoder_lstm_2')\n",
    "            encoder_model = Model(model.input[0], enc_layer.output[1:])\n",
    "\n",
    "        else:  # 'bilstm'\n",
    "            # bidirectional encoder\n",
    "            bi = model.get_layer('encoder_bilstm')\n",
    "            _, f_h, f_c, b_h, b_c = bi.output\n",
    "            st_h = Concatenate()([f_h, b_h])\n",
    "            st_c = Concatenate()([f_c, b_c])\n",
    "            encoder_model = Model(model.input[0], [st_h, st_c])\n",
    "\n",
    "        # grab decoder pieces\n",
    "        decoder_embed = model.get_layer('decoder_embedding')\n",
    "        decoder_lstm  = model.get_layer('decoder_lstm')\n",
    "        decoder_dense = model.get_layer('decoder_dense')\n",
    "\n",
    "        # --- TOP-K Sampling Helper ---\n",
    "        def top_k_sample(probs, k=10):\n",
    "            top_k_indices = probs.argsort()[-k:][::-1]  # get indices of top-k tokens\n",
    "            top_k_probs = probs[top_k_indices]\n",
    "            top_k_probs /= top_k_probs.sum()           # normalize to get probabilities\n",
    "            return np.random.choice(top_k_indices, p=top_k_probs)\n",
    "        \n",
    "        # generation fn\n",
    "        def generate_slogan(text):\n",
    "            enc_ids = tokenizer(\n",
    "                text.lower(),\n",
    "                return_tensors='np',\n",
    "                max_length=max_input_len,\n",
    "                padding='max_length',\n",
    "                truncation=True\n",
    "            )['input_ids']\n",
    "            state_h, state_c = encoder_model.predict(enc_ids, verbose=0)\n",
    "            tgt_seq = np.array([[tokenizer.bos_token_id]])\n",
    "            preds = []\n",
    "            for _ in range(max_target_len):\n",
    "                emb = decoder_embed(tgt_seq)\n",
    "                out, state_h, state_c = decoder_lstm(\n",
    "                    emb, initial_state=[state_h, state_c]\n",
    "                )\n",
    "                probs = decoder_dense(out).numpy()[0, -1, :]\n",
    "                # nxt = np.argmax(probs)\n",
    "                nxt = top_k_sample(probs, k=10)\n",
    "                if nxt == tokenizer.eos_token_id:\n",
    "                    break\n",
    "                preds.append(nxt)\n",
    "                tgt_seq = np.array([[nxt]])\n",
    "            return tokenizer.decode(preds, skip_special_tokens=True)\n",
    "\n",
    "        # --- Preview one example ---\n",
    "        print(f\"\\n🔹 Previewing first {len(preview_df)} examples ({variant}):\")\n",
    "        for idx, row in preview_df.iterrows():\n",
    "            gen = generate_slogan(row['desc_cleaned'])\n",
    "            print(f\"\\n  Example {idx + 1}:\")\n",
    "            print(f\"    Input:     {row['desc_cleaned']}\")\n",
    "            print(f\"    Reference: {row['output_cleaned']}\")\n",
    "            print(f\"    Generated: {gen}\")\n",
    "\n",
    "        # evaluate with existing tqdm\n",
    "        bleu_list, r1_list, r2_list, rl_list, ex_list = [], [], [], [], []\n",
    "        for i in tqdm(range(len(df_test)), desc=f\"Evaluating {variant}\"):\n",
    "            ref = df_test.iloc[i]['output_cleaned'].lower().split()\n",
    "            pred = generate_slogan(df_test.iloc[i]['desc_cleaned']).lower().split()\n",
    "            bleu_list.append(sentence_bleu([ref], pred, smoothing_function=smoothie))\n",
    "            scores = rouge.score(\" \".join(ref), \" \".join(pred))\n",
    "            r1_list.append(scores['rouge1'].fmeasure)\n",
    "            r2_list.append(scores['rouge2'].fmeasure)\n",
    "            rl_list.append(scores['rougeL'].fmeasure)\n",
    "            ex_list.append(int(ref==pred))\n",
    "\n",
    "        results.append({\n",
    "            'Variant': variant,\n",
    "            'BLEU-4': np.mean(bleu_list),\n",
    "            'ROUGE-1': np.mean(r1_list),\n",
    "            'ROUGE-2': np.mean(r2_list),\n",
    "            'ROUGE-L': np.mean(rl_list),\n",
    "            'Exact Match': np.mean(ex_list)\n",
    "        })\n",
    "\n",
    "    return pd.DataFrame(results)"
   ]
  },
  {
   "cell_type": "code",
   "execution_count": 41,
   "id": "f5f34e0b-6d69-465c-a260-6136118f8e0d",
   "metadata": {
    "tags": []
   },
   "outputs": [
    {
     "name": "stdout",
     "output_type": "stream",
     "text": [
      "\n",
      "▶️ Training 1-layer\n",
      "Epoch 1/50\n",
      "\u001b[1m13/13\u001b[0m \u001b[32m━━━━━━━━━━━━━━━━━━━━\u001b[0m\u001b[37m\u001b[0m \u001b[1m25s\u001b[0m 806ms/step - accuracy: 0.5261 - loss: 10.1942 - val_accuracy: 0.7021 - val_loss: 6.3484\n",
      "Epoch 2/50\n",
      "\u001b[1m13/13\u001b[0m \u001b[32m━━━━━━━━━━━━━━━━━━━━\u001b[0m\u001b[37m\u001b[0m \u001b[1m7s\u001b[0m 540ms/step - accuracy: 0.6919 - loss: 5.0354 - val_accuracy: 0.7021 - val_loss: 2.5869\n",
      "Epoch 3/50\n",
      "\u001b[1m13/13\u001b[0m \u001b[32m━━━━━━━━━━━━━━━━━━━━\u001b[0m\u001b[37m\u001b[0m \u001b[1m7s\u001b[0m 533ms/step - accuracy: 0.7021 - loss: 2.2508 - val_accuracy: 0.7021 - val_loss: 2.1954\n",
      "Epoch 4/50\n",
      "\u001b[1m13/13\u001b[0m \u001b[32m━━━━━━━━━━━━━━━━━━━━\u001b[0m\u001b[37m\u001b[0m \u001b[1m7s\u001b[0m 537ms/step - accuracy: 0.7032 - loss: 1.9689 - val_accuracy: 0.7021 - val_loss: 2.1032\n",
      "Epoch 5/50\n",
      "\u001b[1m13/13\u001b[0m \u001b[32m━━━━━━━━━━━━━━━━━━━━\u001b[0m\u001b[37m\u001b[0m \u001b[1m7s\u001b[0m 535ms/step - accuracy: 0.7043 - loss: 1.8690 - val_accuracy: 0.7055 - val_loss: 2.0828\n",
      "Epoch 6/50\n",
      "\u001b[1m13/13\u001b[0m \u001b[32m━━━━━━━━━━━━━━━━━━━━\u001b[0m\u001b[37m\u001b[0m \u001b[1m7s\u001b[0m 542ms/step - accuracy: 0.7107 - loss: 1.8205 - val_accuracy: 0.7141 - val_loss: 2.0731\n",
      "Epoch 7/50\n",
      "\u001b[1m13/13\u001b[0m \u001b[32m━━━━━━━━━━━━━━━━━━━━\u001b[0m\u001b[37m\u001b[0m \u001b[1m7s\u001b[0m 532ms/step - accuracy: 0.7141 - loss: 1.7909 - val_accuracy: 0.7207 - val_loss: 2.0662\n",
      "Epoch 8/50\n",
      "\u001b[1m13/13\u001b[0m \u001b[32m━━━━━━━━━━━━━━━━━━━━\u001b[0m\u001b[37m\u001b[0m \u001b[1m4s\u001b[0m 323ms/step - accuracy: 0.7196 - loss: 1.7669 - val_accuracy: 0.7207 - val_loss: 2.0668\n",
      "Epoch 9/50\n",
      "\u001b[1m13/13\u001b[0m \u001b[32m━━━━━━━━━━━━━━━━━━━━\u001b[0m\u001b[37m\u001b[0m \u001b[1m7s\u001b[0m 533ms/step - accuracy: 0.7224 - loss: 1.7484 - val_accuracy: 0.7241 - val_loss: 2.0642\n",
      "Epoch 10/50\n",
      "\u001b[1m13/13\u001b[0m \u001b[32m━━━━━━━━━━━━━━━━━━━━\u001b[0m\u001b[37m\u001b[0m \u001b[1m7s\u001b[0m 534ms/step - accuracy: 0.7246 - loss: 1.7349 - val_accuracy: 0.7257 - val_loss: 2.0625\n",
      "Epoch 11/50\n",
      "\u001b[1m13/13\u001b[0m \u001b[32m━━━━━━━━━━━━━━━━━━━━\u001b[0m\u001b[37m\u001b[0m \u001b[1m7s\u001b[0m 529ms/step - accuracy: 0.7244 - loss: 1.7247 - val_accuracy: 0.7257 - val_loss: 2.0625\n",
      "Epoch 12/50\n",
      "\u001b[1m13/13\u001b[0m \u001b[32m━━━━━━━━━━━━━━━━━━━━\u001b[0m\u001b[37m\u001b[0m \u001b[1m7s\u001b[0m 542ms/step - accuracy: 0.7265 - loss: 1.7146 - val_accuracy: 0.7257 - val_loss: 2.0610\n",
      "Epoch 13/50\n",
      "\u001b[1m13/13\u001b[0m \u001b[32m━━━━━━━━━━━━━━━━━━━━\u001b[0m\u001b[37m\u001b[0m \u001b[1m4s\u001b[0m 332ms/step - accuracy: 0.7279 - loss: 1.7064 - val_accuracy: 0.7275 - val_loss: 2.0641\n",
      "Epoch 14/50\n",
      "\u001b[1m13/13\u001b[0m \u001b[32m━━━━━━━━━━━━━━━━━━━━\u001b[0m\u001b[37m\u001b[0m \u001b[1m4s\u001b[0m 330ms/step - accuracy: 0.7274 - loss: 1.7001 - val_accuracy: 0.7275 - val_loss: 2.0667\n",
      "Epoch 15/50\n",
      "\u001b[1m13/13\u001b[0m \u001b[32m━━━━━━━━━━━━━━━━━━━━\u001b[0m\u001b[37m\u001b[0m \u001b[1m4s\u001b[0m 327ms/step - accuracy: 0.7268 - loss: 1.6899 - val_accuracy: 0.7275 - val_loss: 2.0678\n",
      "Epoch 16/50\n",
      "\u001b[1m13/13\u001b[0m \u001b[32m━━━━━━━━━━━━━━━━━━━━\u001b[0m\u001b[37m\u001b[0m \u001b[1m4s\u001b[0m 334ms/step - accuracy: 0.7250 - loss: 1.6878 - val_accuracy: 0.7275 - val_loss: 2.0697\n",
      "Epoch 17/50\n",
      "\u001b[1m13/13\u001b[0m \u001b[32m━━━━━━━━━━━━━━━━━━━━\u001b[0m\u001b[37m\u001b[0m \u001b[1m4s\u001b[0m 325ms/step - accuracy: 0.7268 - loss: 1.6802 - val_accuracy: 0.7275 - val_loss: 2.0710\n",
      "Saved training history to history_1-layer.json\n",
      "\n",
      "🔹 Previewing first 4 examples (1-layer):\n",
      "\n",
      "  Example 1:\n",
      "    Input:     our expert team of analytical chemists provide eliquid analysis manufacturing services, ensuring full regulatory compliance for the ecigarette market.\n",
      "    Reference: eliquid testing uk\n",
      "    Generated:  a custom high the premier a in,\n",
      "\n",
      "  Example 2:\n",
      "    Input:     company is west michigan's full service backline rental, audio, and production resource, equipped to serve the midwest and beyond. 616 7359049\n",
      "    Reference: great performances start with great service\n",
      "    Generated:  your high best global, for for tx of\n",
      "\n",
      "  Example 3:\n",
      "    Input:     from placing entire software engineering teams to integrating easily into your current team, we offer bespoke placements of the very best engineers.\n",
      "    Reference: software development consultancy london\n",
      "    Generated:  we premier premier global and  premier global a and for and in\n",
      "\n",
      "  Example 4:\n",
      "    Input:     a strategic partner of the law society, company is a legal accounts, practice management and case management cloud based software solution.\n",
      "    Reference: cloud based legal accounts, practice and case management.\n",
      "    Generated:  the premier a a \n"
     ]
    },
    {
     "name": "stderr",
     "output_type": "stream",
     "text": [
      "Evaluating 1-layer: 100%|██████████| 994/994 [03:53<00:00,  4.26it/s]\n"
     ]
    },
    {
     "name": "stdout",
     "output_type": "stream",
     "text": [
      "\n",
      "▶️ Training 2-layer\n",
      "Epoch 1/50\n",
      "\u001b[1m13/13\u001b[0m \u001b[32m━━━━━━━━━━━━━━━━━━━━\u001b[0m\u001b[37m\u001b[0m \u001b[1m26s\u001b[0m 877ms/step - accuracy: 0.5274 - loss: 10.1523 - val_accuracy: 0.7021 - val_loss: 6.2827\n",
      "Epoch 2/50\n",
      "\u001b[1m13/13\u001b[0m \u001b[32m━━━━━━━━━━━━━━━━━━━━\u001b[0m\u001b[37m\u001b[0m \u001b[1m7s\u001b[0m 560ms/step - accuracy: 0.6836 - loss: 5.0062 - val_accuracy: 0.7021 - val_loss: 2.5978\n",
      "Epoch 3/50\n",
      "\u001b[1m13/13\u001b[0m \u001b[32m━━━━━━━━━━━━━━━━━━━━\u001b[0m\u001b[37m\u001b[0m \u001b[1m7s\u001b[0m 556ms/step - accuracy: 0.7032 - loss: 2.2649 - val_accuracy: 0.7021 - val_loss: 2.2282\n",
      "Epoch 4/50\n",
      "\u001b[1m13/13\u001b[0m \u001b[32m━━━━━━━━━━━━━━━━━━━━\u001b[0m\u001b[37m\u001b[0m \u001b[1m7s\u001b[0m 559ms/step - accuracy: 0.7032 - loss: 2.0039 - val_accuracy: 0.7021 - val_loss: 2.1317\n",
      "Epoch 5/50\n",
      "\u001b[1m13/13\u001b[0m \u001b[32m━━━━━━━━━━━━━━━━━━━━\u001b[0m\u001b[37m\u001b[0m \u001b[1m7s\u001b[0m 560ms/step - accuracy: 0.7035 - loss: 1.8996 - val_accuracy: 0.7021 - val_loss: 2.1098\n",
      "Epoch 6/50\n",
      "\u001b[1m13/13\u001b[0m \u001b[32m━━━━━━━━━━━━━━━━━━━━\u001b[0m\u001b[37m\u001b[0m \u001b[1m7s\u001b[0m 558ms/step - accuracy: 0.7066 - loss: 1.8534 - val_accuracy: 0.7055 - val_loss: 2.0985\n",
      "Epoch 7/50\n",
      "\u001b[1m13/13\u001b[0m \u001b[32m━━━━━━━━━━━━━━━━━━━━\u001b[0m\u001b[37m\u001b[0m \u001b[1m7s\u001b[0m 552ms/step - accuracy: 0.7102 - loss: 1.8193 - val_accuracy: 0.7141 - val_loss: 2.0959\n",
      "Epoch 8/50\n",
      "\u001b[1m13/13\u001b[0m \u001b[32m━━━━━━━━━━━━━━━━━━━━\u001b[0m\u001b[37m\u001b[0m \u001b[1m7s\u001b[0m 554ms/step - accuracy: 0.7143 - loss: 1.7985 - val_accuracy: 0.7207 - val_loss: 2.0848\n",
      "Epoch 9/50\n",
      "\u001b[1m13/13\u001b[0m \u001b[32m━━━━━━━━━━━━━━━━━━━━\u001b[0m\u001b[37m\u001b[0m \u001b[1m7s\u001b[0m 551ms/step - accuracy: 0.7189 - loss: 1.7769 - val_accuracy: 0.7222 - val_loss: 2.0814\n",
      "Epoch 10/50\n",
      "\u001b[1m13/13\u001b[0m \u001b[32m━━━━━━━━━━━━━━━━━━━━\u001b[0m\u001b[37m\u001b[0m \u001b[1m7s\u001b[0m 559ms/step - accuracy: 0.7203 - loss: 1.7611 - val_accuracy: 0.7225 - val_loss: 2.0779\n",
      "Epoch 11/50\n",
      "\u001b[1m13/13\u001b[0m \u001b[32m━━━━━━━━━━━━━━━━━━━━\u001b[0m\u001b[37m\u001b[0m \u001b[1m7s\u001b[0m 559ms/step - accuracy: 0.7219 - loss: 1.7448 - val_accuracy: 0.7257 - val_loss: 2.0690\n",
      "Epoch 12/50\n",
      "\u001b[1m13/13\u001b[0m \u001b[32m━━━━━━━━━━━━━━━━━━━━\u001b[0m\u001b[37m\u001b[0m \u001b[1m7s\u001b[0m 553ms/step - accuracy: 0.7239 - loss: 1.7296 - val_accuracy: 0.7223 - val_loss: 2.0688\n",
      "Epoch 13/50\n",
      "\u001b[1m13/13\u001b[0m \u001b[32m━━━━━━━━━━━━━━━━━━━━\u001b[0m\u001b[37m\u001b[0m \u001b[1m7s\u001b[0m 555ms/step - accuracy: 0.7221 - loss: 1.7241 - val_accuracy: 0.7257 - val_loss: 2.0647\n",
      "Epoch 14/50\n",
      "\u001b[1m13/13\u001b[0m \u001b[32m━━━━━━━━━━━━━━━━━━━━\u001b[0m\u001b[37m\u001b[0m \u001b[1m5s\u001b[0m 345ms/step - accuracy: 0.7242 - loss: 1.7144 - val_accuracy: 0.7257 - val_loss: 2.0669\n",
      "Epoch 15/50\n",
      "\u001b[1m13/13\u001b[0m \u001b[32m━━━━━━━━━━━━━━━━━━━━\u001b[0m\u001b[37m\u001b[0m \u001b[1m4s\u001b[0m 341ms/step - accuracy: 0.7249 - loss: 1.7080 - val_accuracy: 0.7275 - val_loss: 2.0718\n",
      "Epoch 16/50\n",
      "\u001b[1m13/13\u001b[0m \u001b[32m━━━━━━━━━━━━━━━━━━━━\u001b[0m\u001b[37m\u001b[0m \u001b[1m4s\u001b[0m 338ms/step - accuracy: 0.7249 - loss: 1.7037 - val_accuracy: 0.7273 - val_loss: 2.0676\n",
      "Epoch 17/50\n",
      "\u001b[1m13/13\u001b[0m \u001b[32m━━━━━━━━━━━━━━━━━━━━\u001b[0m\u001b[37m\u001b[0m \u001b[1m4s\u001b[0m 340ms/step - accuracy: 0.7252 - loss: 1.6945 - val_accuracy: 0.7273 - val_loss: 2.0651\n",
      "Epoch 18/50\n",
      "\u001b[1m13/13\u001b[0m \u001b[32m━━━━━━━━━━━━━━━━━━━━\u001b[0m\u001b[37m\u001b[0m \u001b[1m7s\u001b[0m 551ms/step - accuracy: 0.7267 - loss: 1.6887 - val_accuracy: 0.7251 - val_loss: 2.0642\n",
      "Epoch 19/50\n",
      "\u001b[1m13/13\u001b[0m \u001b[32m━━━━━━━━━━━━━━━━━━━━\u001b[0m\u001b[37m\u001b[0m \u001b[1m4s\u001b[0m 340ms/step - accuracy: 0.7264 - loss: 1.6850 - val_accuracy: 0.7238 - val_loss: 2.0734\n",
      "Epoch 20/50\n",
      "\u001b[1m13/13\u001b[0m \u001b[32m━━━━━━━━━━━━━━━━━━━━\u001b[0m\u001b[37m\u001b[0m \u001b[1m4s\u001b[0m 339ms/step - accuracy: 0.7247 - loss: 1.6820 - val_accuracy: 0.7290 - val_loss: 2.0742\n",
      "Epoch 21/50\n",
      "\u001b[1m13/13\u001b[0m \u001b[32m━━━━━━━━━━━━━━━━━━━━\u001b[0m\u001b[37m\u001b[0m \u001b[1m4s\u001b[0m 344ms/step - accuracy: 0.7265 - loss: 1.6756 - val_accuracy: 0.7293 - val_loss: 2.0712\n",
      "Epoch 22/50\n",
      "\u001b[1m13/13\u001b[0m \u001b[32m━━━━━━━━━━━━━━━━━━━━\u001b[0m\u001b[37m\u001b[0m \u001b[1m4s\u001b[0m 343ms/step - accuracy: 0.7257 - loss: 1.6724 - val_accuracy: 0.7283 - val_loss: 2.0734\n",
      "Epoch 23/50\n",
      "\u001b[1m13/13\u001b[0m \u001b[32m━━━━━━━━━━━━━━━━━━━━\u001b[0m\u001b[37m\u001b[0m \u001b[1m4s\u001b[0m 340ms/step - accuracy: 0.7248 - loss: 1.6645 - val_accuracy: 0.7286 - val_loss: 2.0737\n",
      "Saved training history to history_2-layer.json\n",
      "\n",
      "🔹 Previewing first 4 examples (2-layer):\n",
      "\n",
      "  Example 1:\n",
      "    Input:     our expert team of analytical chemists provide eliquid analysis manufacturing services, ensuring full regulatory compliance for the ecigarette market.\n",
      "    Reference: eliquid testing uk\n",
      "    Generated:  building award premier custom business, the the,  the tx  in the in and and\n",
      "\n",
      "  Example 2:\n",
      "    Input:     company is west michigan's full service backline rental, audio, and production resource, equipped to serve the midwest and beyond. 616 7359049\n",
      "    Reference: great performances start with great service\n",
      "    Generated:  building and and award the a web and the\n",
      "\n",
      "  Example 3:\n",
      "    Input:     from placing entire software engineering teams to integrating easily into your current team, we offer bespoke placements of the very best engineers.\n",
      "    Reference: software development consultancy london\n",
      "    Generated:  web a building your best a premier custom best and custom\n",
      "\n",
      "  Example 4:\n",
      "    Input:     a strategic partner of the law society, company is a legal accounts, practice management and case management cloud based software solution.\n",
      "    Reference: cloud based legal accounts, practice and case management.\n",
      "    Generated:  your award your a web premier a security and security , estate, l,,\n"
     ]
    },
    {
     "name": "stderr",
     "output_type": "stream",
     "text": [
      "Evaluating 2-layer: 100%|██████████| 994/994 [04:42<00:00,  3.52it/s]\n"
     ]
    },
    {
     "name": "stdout",
     "output_type": "stream",
     "text": [
      "\n",
      "▶️ Training bilstm\n",
      "Epoch 1/50\n",
      "\u001b[1m13/13\u001b[0m \u001b[32m━━━━━━━━━━━━━━━━━━━━\u001b[0m\u001b[37m\u001b[0m \u001b[1m31s\u001b[0m 1s/step - accuracy: 0.5188 - loss: 9.3877 - val_accuracy: 0.7021 - val_loss: 2.8400\n",
      "Epoch 2/50\n",
      "\u001b[1m13/13\u001b[0m \u001b[32m━━━━━━━━━━━━━━━━━━━━\u001b[0m\u001b[37m\u001b[0m \u001b[1m10s\u001b[0m 812ms/step - accuracy: 0.7032 - loss: 2.4136 - val_accuracy: 0.7021 - val_loss: 2.1904\n",
      "Epoch 3/50\n",
      "\u001b[1m13/13\u001b[0m \u001b[32m━━━━━━━━━━━━━━━━━━━━\u001b[0m\u001b[37m\u001b[0m \u001b[1m10s\u001b[0m 806ms/step - accuracy: 0.7037 - loss: 1.9436 - val_accuracy: 0.7141 - val_loss: 2.1068\n",
      "Epoch 4/50\n",
      "\u001b[1m13/13\u001b[0m \u001b[32m━━━━━━━━━━━━━━━━━━━━\u001b[0m\u001b[37m\u001b[0m \u001b[1m10s\u001b[0m 802ms/step - accuracy: 0.7173 - loss: 1.8355 - val_accuracy: 0.7207 - val_loss: 2.0962\n",
      "Epoch 5/50\n",
      "\u001b[1m13/13\u001b[0m \u001b[32m━━━━━━━━━━━━━━━━━━━━\u001b[0m\u001b[37m\u001b[0m \u001b[1m6s\u001b[0m 467ms/step - accuracy: 0.7222 - loss: 1.7787 - val_accuracy: 0.7241 - val_loss: 2.0963\n",
      "Epoch 6/50\n",
      "\u001b[1m13/13\u001b[0m \u001b[32m━━━━━━━━━━━━━━━━━━━━\u001b[0m\u001b[37m\u001b[0m \u001b[1m6s\u001b[0m 469ms/step - accuracy: 0.7248 - loss: 1.7431 - val_accuracy: 0.7262 - val_loss: 2.0968\n",
      "Epoch 7/50\n",
      "\u001b[1m13/13\u001b[0m \u001b[32m━━━━━━━━━━━━━━━━━━━━\u001b[0m\u001b[37m\u001b[0m \u001b[1m6s\u001b[0m 468ms/step - accuracy: 0.7268 - loss: 1.7196 - val_accuracy: 0.7267 - val_loss: 2.0993\n",
      "Epoch 8/50\n",
      "\u001b[1m13/13\u001b[0m \u001b[32m━━━━━━━━━━━━━━━━━━━━\u001b[0m\u001b[37m\u001b[0m \u001b[1m6s\u001b[0m 468ms/step - accuracy: 0.7281 - loss: 1.7017 - val_accuracy: 0.7291 - val_loss: 2.1044\n",
      "Epoch 9/50\n",
      "\u001b[1m13/13\u001b[0m \u001b[32m━━━━━━━━━━━━━━━━━━━━\u001b[0m\u001b[37m\u001b[0m \u001b[1m6s\u001b[0m 467ms/step - accuracy: 0.7287 - loss: 1.6843 - val_accuracy: 0.7296 - val_loss: 2.1056\n",
      "Saved training history to history_bilstm.json\n",
      "\n",
      "🔹 Previewing first 4 examples (bilstm):\n",
      "\n",
      "  Example 1:\n",
      "    Input:     our expert team of analytical chemists provide eliquid analysis manufacturing services, ensuring full regulatory compliance for the ecigarette market.\n",
      "    Reference: eliquid testing uk\n",
      "    Generated:  leading your best best your the\n",
      "\n",
      "  Example 2:\n",
      "    Input:     company is west michigan's full service backline rental, audio, and production resource, equipped to serve the midwest and beyond. 616 7359049\n",
      "    Reference: great performances start with great service\n",
      "    Generated:  your a leading in\n",
      "\n",
      "  Example 3:\n",
      "    Input:     from placing entire software engineering teams to integrating easily into your current team, we offer bespoke placements of the very best engineers.\n",
      "    Reference: software development consultancy london\n",
      "    Generated:   a  best  best for, and , n n n in the and and for n the, n\n",
      "\n",
      "  Example 4:\n",
      "    Input:     a strategic partner of the law society, company is a legal accounts, practice management and case management cloud based software solution.\n",
      "    Reference: cloud based legal accounts, practice and case management.\n",
      "    Generated:  and your for a\n"
     ]
    },
    {
     "name": "stderr",
     "output_type": "stream",
     "text": [
      "Evaluating bilstm: 100%|██████████| 994/994 [03:18<00:00,  5.01it/s]"
     ]
    },
    {
     "name": "stdout",
     "output_type": "stream",
     "text": [
      "   Variant    BLEU-4   ROUGE-1   ROUGE-2   ROUGE-L  Exact Match\n",
      "0  1-layer  0.006307  0.039390  0.000000  0.037690          0.0\n",
      "1  2-layer  0.006767  0.043804  0.000453  0.041987          0.0\n",
      "2   bilstm  0.007596  0.052767  0.000905  0.050322          0.0\n"
     ]
    },
    {
     "name": "stderr",
     "output_type": "stream",
     "text": [
      "\n"
     ]
    }
   ],
   "source": [
    "# with attention\n",
    "results_attention_df = run_all_variants(df, df_test, tokenizer, use_attention=True)\n",
    "print(results_attention_df)"
   ]
  },
  {
   "cell_type": "code",
   "execution_count": 42,
   "id": "0e9d767f-22fa-4425-b1b2-80571b153a2e",
   "metadata": {
    "colab": {
     "base_uri": "https://localhost:8080/"
    },
    "id": "0e9d767f-22fa-4425-b1b2-80571b153a2e",
    "outputId": "8f6c34fd-1082-435b-96fd-1fb52054020a",
    "tags": []
   },
   "outputs": [
    {
     "name": "stdout",
     "output_type": "stream",
     "text": [
      "\n",
      "▶️ Training 1-layer\n",
      "Epoch 1/50\n",
      "\u001b[1m13/13\u001b[0m \u001b[32m━━━━━━━━━━━━━━━━━━━━\u001b[0m\u001b[37m\u001b[0m \u001b[1m7s\u001b[0m 395ms/step - accuracy: 0.5392 - loss: 10.4228 - val_accuracy: 0.6698 - val_loss: 7.1009\n",
      "Epoch 2/50\n",
      "\u001b[1m13/13\u001b[0m \u001b[32m━━━━━━━━━━━━━━━━━━━━\u001b[0m\u001b[37m\u001b[0m \u001b[1m6s\u001b[0m 478ms/step - accuracy: 0.6709 - loss: 5.5993 - val_accuracy: 0.6698 - val_loss: 2.5850\n",
      "Epoch 3/50\n",
      "\u001b[1m13/13\u001b[0m \u001b[32m━━━━━━━━━━━━━━━━━━━━\u001b[0m\u001b[37m\u001b[0m \u001b[1m6s\u001b[0m 481ms/step - accuracy: 0.6891 - loss: 2.2530 - val_accuracy: 0.7021 - val_loss: 2.2289\n",
      "Epoch 4/50\n",
      "\u001b[1m13/13\u001b[0m \u001b[32m━━━━━━━━━━━━━━━━━━━━\u001b[0m\u001b[37m\u001b[0m \u001b[1m6s\u001b[0m 481ms/step - accuracy: 0.6819 - loss: 1.9975 - val_accuracy: 0.6698 - val_loss: 2.1697\n",
      "Epoch 5/50\n",
      "\u001b[1m13/13\u001b[0m \u001b[32m━━━━━━━━━━━━━━━━━━━━\u001b[0m\u001b[37m\u001b[0m \u001b[1m6s\u001b[0m 481ms/step - accuracy: 0.6818 - loss: 1.9030 - val_accuracy: 0.7021 - val_loss: 2.1162\n",
      "Epoch 6/50\n",
      "\u001b[1m13/13\u001b[0m \u001b[32m━━━━━━━━━━━━━━━━━━━━\u001b[0m\u001b[37m\u001b[0m \u001b[1m6s\u001b[0m 470ms/step - accuracy: 0.7063 - loss: 1.8185 - val_accuracy: 0.7155 - val_loss: 2.0624\n",
      "Epoch 7/50\n",
      "\u001b[1m13/13\u001b[0m \u001b[32m━━━━━━━━━━━━━━━━━━━━\u001b[0m\u001b[37m\u001b[0m \u001b[1m6s\u001b[0m 480ms/step - accuracy: 0.7232 - loss: 1.7525 - val_accuracy: 0.7342 - val_loss: 2.0255\n",
      "Epoch 8/50\n",
      "\u001b[1m13/13\u001b[0m \u001b[32m━━━━━━━━━━━━━━━━━━━━\u001b[0m\u001b[37m\u001b[0m \u001b[1m6s\u001b[0m 480ms/step - accuracy: 0.7375 - loss: 1.7109 - val_accuracy: 0.7374 - val_loss: 1.9941\n",
      "Epoch 9/50\n",
      "\u001b[1m13/13\u001b[0m \u001b[32m━━━━━━━━━━━━━━━━━━━━\u001b[0m\u001b[37m\u001b[0m \u001b[1m6s\u001b[0m 480ms/step - accuracy: 0.7514 - loss: 1.6732 - val_accuracy: 0.7666 - val_loss: 1.9539\n",
      "Epoch 10/50\n",
      "\u001b[1m13/13\u001b[0m \u001b[32m━━━━━━━━━━━━━━━━━━━━\u001b[0m\u001b[37m\u001b[0m \u001b[1m6s\u001b[0m 470ms/step - accuracy: 0.7693 - loss: 1.6325 - val_accuracy: 0.7758 - val_loss: 1.9063\n",
      "Epoch 11/50\n",
      "\u001b[1m13/13\u001b[0m \u001b[32m━━━━━━━━━━━━━━━━━━━━\u001b[0m\u001b[37m\u001b[0m \u001b[1m6s\u001b[0m 472ms/step - accuracy: 0.7810 - loss: 1.5906 - val_accuracy: 0.7873 - val_loss: 1.8615\n",
      "Epoch 12/50\n",
      "\u001b[1m13/13\u001b[0m \u001b[32m━━━━━━━━━━━━━━━━━━━━\u001b[0m\u001b[37m\u001b[0m \u001b[1m6s\u001b[0m 481ms/step - accuracy: 0.7915 - loss: 1.5571 - val_accuracy: 0.7988 - val_loss: 1.8319\n",
      "Epoch 13/50\n",
      "\u001b[1m13/13\u001b[0m \u001b[32m━━━━━━━━━━━━━━━━━━━━\u001b[0m\u001b[37m\u001b[0m \u001b[1m6s\u001b[0m 481ms/step - accuracy: 0.7974 - loss: 1.5298 - val_accuracy: 0.7988 - val_loss: 1.8137\n",
      "Epoch 14/50\n",
      "\u001b[1m13/13\u001b[0m \u001b[32m━━━━━━━━━━━━━━━━━━━━\u001b[0m\u001b[37m\u001b[0m \u001b[1m6s\u001b[0m 480ms/step - accuracy: 0.7996 - loss: 1.5052 - val_accuracy: 0.7988 - val_loss: 1.8032\n",
      "Epoch 15/50\n",
      "\u001b[1m13/13\u001b[0m \u001b[32m━━━━━━━━━━━━━━━━━━━━\u001b[0m\u001b[37m\u001b[0m \u001b[1m6s\u001b[0m 471ms/step - accuracy: 0.7997 - loss: 1.4876 - val_accuracy: 0.7988 - val_loss: 1.7965\n",
      "Epoch 16/50\n",
      "\u001b[1m13/13\u001b[0m \u001b[32m━━━━━━━━━━━━━━━━━━━━\u001b[0m\u001b[37m\u001b[0m \u001b[1m6s\u001b[0m 482ms/step - accuracy: 0.7998 - loss: 1.4739 - val_accuracy: 0.7988 - val_loss: 1.7931\n",
      "Epoch 17/50\n",
      "\u001b[1m13/13\u001b[0m \u001b[32m━━━━━━━━━━━━━━━━━━━━\u001b[0m\u001b[37m\u001b[0m \u001b[1m6s\u001b[0m 471ms/step - accuracy: 0.7999 - loss: 1.4623 - val_accuracy: 0.7996 - val_loss: 1.7879\n",
      "Epoch 18/50\n",
      "\u001b[1m13/13\u001b[0m \u001b[32m━━━━━━━━━━━━━━━━━━━━\u001b[0m\u001b[37m\u001b[0m \u001b[1m6s\u001b[0m 482ms/step - accuracy: 0.8001 - loss: 1.4500 - val_accuracy: 0.7998 - val_loss: 1.7861\n",
      "Epoch 19/50\n",
      "\u001b[1m13/13\u001b[0m \u001b[32m━━━━━━━━━━━━━━━━━━━━\u001b[0m\u001b[37m\u001b[0m \u001b[1m6s\u001b[0m 481ms/step - accuracy: 0.8005 - loss: 1.4398 - val_accuracy: 0.8003 - val_loss: 1.7835\n",
      "Epoch 20/50\n",
      "\u001b[1m13/13\u001b[0m \u001b[32m━━━━━━━━━━━━━━━━━━━━\u001b[0m\u001b[37m\u001b[0m \u001b[1m6s\u001b[0m 480ms/step - accuracy: 0.8006 - loss: 1.4314 - val_accuracy: 0.8003 - val_loss: 1.7829\n",
      "Epoch 21/50\n",
      "\u001b[1m13/13\u001b[0m \u001b[32m━━━━━━━━━━━━━━━━━━━━\u001b[0m\u001b[37m\u001b[0m \u001b[1m6s\u001b[0m 481ms/step - accuracy: 0.8008 - loss: 1.4209 - val_accuracy: 0.8008 - val_loss: 1.7811\n",
      "Epoch 22/50\n",
      "\u001b[1m13/13\u001b[0m \u001b[32m━━━━━━━━━━━━━━━━━━━━\u001b[0m\u001b[37m\u001b[0m \u001b[1m6s\u001b[0m 480ms/step - accuracy: 0.8011 - loss: 1.4140 - val_accuracy: 0.8011 - val_loss: 1.7811\n",
      "Epoch 23/50\n",
      "\u001b[1m13/13\u001b[0m \u001b[32m━━━━━━━━━━━━━━━━━━━━\u001b[0m\u001b[37m\u001b[0m \u001b[1m6s\u001b[0m 471ms/step - accuracy: 0.8012 - loss: 1.4063 - val_accuracy: 0.8013 - val_loss: 1.7807\n",
      "Epoch 24/50\n",
      "\u001b[1m13/13\u001b[0m \u001b[32m━━━━━━━━━━━━━━━━━━━━\u001b[0m\u001b[37m\u001b[0m \u001b[1m4s\u001b[0m 278ms/step - accuracy: 0.8013 - loss: 1.3989 - val_accuracy: 0.8018 - val_loss: 1.7822\n",
      "Epoch 25/50\n",
      "\u001b[1m13/13\u001b[0m \u001b[32m━━━━━━━━━━━━━━━━━━━━\u001b[0m\u001b[37m\u001b[0m \u001b[1m4s\u001b[0m 279ms/step - accuracy: 0.8015 - loss: 1.3911 - val_accuracy: 0.8003 - val_loss: 1.7830\n",
      "Epoch 26/50\n",
      "\u001b[1m13/13\u001b[0m \u001b[32m━━━━━━━━━━━━━━━━━━━━\u001b[0m\u001b[37m\u001b[0m \u001b[1m4s\u001b[0m 279ms/step - accuracy: 0.8013 - loss: 1.3860 - val_accuracy: 0.7970 - val_loss: 1.7844\n",
      "Epoch 27/50\n",
      "\u001b[1m13/13\u001b[0m \u001b[32m━━━━━━━━━━━━━━━━━━━━\u001b[0m\u001b[37m\u001b[0m \u001b[1m6s\u001b[0m 480ms/step - accuracy: 0.8018 - loss: 1.3844 - val_accuracy: 0.7988 - val_loss: 1.7807\n",
      "Epoch 28/50\n",
      "\u001b[1m13/13\u001b[0m \u001b[32m━━━━━━━━━━━━━━━━━━━━\u001b[0m\u001b[37m\u001b[0m \u001b[1m4s\u001b[0m 279ms/step - accuracy: 0.8027 - loss: 1.3861 - val_accuracy: 0.8000 - val_loss: 1.7874\n",
      "Epoch 29/50\n",
      "\u001b[1m13/13\u001b[0m \u001b[32m━━━━━━━━━━━━━━━━━━━━\u001b[0m\u001b[37m\u001b[0m \u001b[1m4s\u001b[0m 279ms/step - accuracy: 0.8024 - loss: 1.3780 - val_accuracy: 0.8006 - val_loss: 1.7933\n",
      "Epoch 30/50\n",
      "\u001b[1m13/13\u001b[0m \u001b[32m━━━━━━━━━━━━━━━━━━━━\u001b[0m\u001b[37m\u001b[0m \u001b[1m4s\u001b[0m 279ms/step - accuracy: 0.8024 - loss: 1.3660 - val_accuracy: 0.8011 - val_loss: 1.7975\n",
      "Epoch 31/50\n",
      "\u001b[1m13/13\u001b[0m \u001b[32m━━━━━━━━━━━━━━━━━━━━\u001b[0m\u001b[37m\u001b[0m \u001b[1m4s\u001b[0m 279ms/step - accuracy: 0.8027 - loss: 1.3573 - val_accuracy: 0.8005 - val_loss: 1.8034\n",
      "Epoch 32/50\n",
      "\u001b[1m13/13\u001b[0m \u001b[32m━━━━━━━━━━━━━━━━━━━━\u001b[0m\u001b[37m\u001b[0m \u001b[1m4s\u001b[0m 279ms/step - accuracy: 0.8024 - loss: 1.3470 - val_accuracy: 0.8009 - val_loss: 1.7993\n",
      "Saved training history to history_1-layer.json\n",
      "\n",
      "🔹 Previewing first 4 examples (1-layer):\n",
      "\n",
      "  Example 1:\n",
      "    Input:     our expert team of analytical chemists provide eliquid analysis manufacturing services, ensuring full regulatory compliance for the ecigarette market.\n",
      "    Reference: eliquid testing uk\n",
      "    Generated:  in and business the the the software and \n",
      "\n",
      "  Example 2:\n",
      "    Input:     company is west michigan's full service backline rental, audio, and production resource, equipped to serve the midwest and beyond. 616 7359049\n",
      "    Reference: great performances start with great service\n",
      "    Generated:  a the the of a design agency in,, \n",
      "\n",
      "  Example 3:\n",
      "    Input:     from placing entire software engineering teams to integrating easily into your current team, we offer bespoke placements of the very best engineers.\n",
      "    Reference: software development consultancy london\n",
      "    Generated:  a and of of in the,, and for your of in to solutions \n",
      "\n",
      "  Example 4:\n",
      "    Input:     a strategic partner of the law society, company is a legal accounts, practice management and case management cloud based software solution.\n",
      "    Reference: cloud based legal accounts, practice and case management.\n",
      "    Generated:  and the and business in your agency and the and in agency\n"
     ]
    },
    {
     "name": "stderr",
     "output_type": "stream",
     "text": [
      "Evaluating 1-layer: 100%|██████████| 994/994 [03:35<00:00,  4.61it/s]\n"
     ]
    },
    {
     "name": "stdout",
     "output_type": "stream",
     "text": [
      "\n",
      "▶️ Training 2-layer\n",
      "Epoch 1/50\n",
      "\u001b[1m13/13\u001b[0m \u001b[32m━━━━━━━━━━━━━━━━━━━━\u001b[0m\u001b[37m\u001b[0m \u001b[1m7s\u001b[0m 416ms/step - accuracy: 0.5360 - loss: 10.4270 - val_accuracy: 0.6698 - val_loss: 7.1478\n",
      "Epoch 2/50\n",
      "\u001b[1m13/13\u001b[0m \u001b[32m━━━━━━━━━━━━━━━━━━━━\u001b[0m\u001b[37m\u001b[0m \u001b[1m6s\u001b[0m 497ms/step - accuracy: 0.6709 - loss: 5.6396 - val_accuracy: 0.6698 - val_loss: 2.6013\n",
      "Epoch 3/50\n",
      "\u001b[1m13/13\u001b[0m \u001b[32m━━━━━━━━━━━━━━━━━━━━\u001b[0m\u001b[37m\u001b[0m \u001b[1m6s\u001b[0m 498ms/step - accuracy: 0.6732 - loss: 2.2660 - val_accuracy: 0.6698 - val_loss: 2.2913\n",
      "Epoch 4/50\n",
      "\u001b[1m13/13\u001b[0m \u001b[32m━━━━━━━━━━━━━━━━━━━━\u001b[0m\u001b[37m\u001b[0m \u001b[1m6s\u001b[0m 498ms/step - accuracy: 0.6711 - loss: 2.0509 - val_accuracy: 0.6698 - val_loss: 2.2248\n",
      "Epoch 5/50\n",
      "\u001b[1m13/13\u001b[0m \u001b[32m━━━━━━━━━━━━━━━━━━━━\u001b[0m\u001b[37m\u001b[0m \u001b[1m6s\u001b[0m 498ms/step - accuracy: 0.6743 - loss: 1.9422 - val_accuracy: 0.7021 - val_loss: 2.1672\n",
      "Epoch 6/50\n",
      "\u001b[1m13/13\u001b[0m \u001b[32m━━━━━━━━━━━━━━━━━━━━\u001b[0m\u001b[37m\u001b[0m \u001b[1m6s\u001b[0m 496ms/step - accuracy: 0.6996 - loss: 1.8571 - val_accuracy: 0.7064 - val_loss: 2.1150\n",
      "Epoch 7/50\n",
      "\u001b[1m13/13\u001b[0m \u001b[32m━━━━━━━━━━━━━━━━━━━━\u001b[0m\u001b[37m\u001b[0m \u001b[1m6s\u001b[0m 493ms/step - accuracy: 0.7177 - loss: 1.7953 - val_accuracy: 0.7338 - val_loss: 2.0766\n",
      "Epoch 8/50\n",
      "\u001b[1m13/13\u001b[0m \u001b[32m━━━━━━━━━━━━━━━━━━━━\u001b[0m\u001b[37m\u001b[0m \u001b[1m6s\u001b[0m 491ms/step - accuracy: 0.7306 - loss: 1.7540 - val_accuracy: 0.7343 - val_loss: 2.0447\n",
      "Epoch 9/50\n",
      "\u001b[1m13/13\u001b[0m \u001b[32m━━━━━━━━━━━━━━━━━━━━\u001b[0m\u001b[37m\u001b[0m \u001b[1m6s\u001b[0m 494ms/step - accuracy: 0.7440 - loss: 1.7193 - val_accuracy: 0.7661 - val_loss: 2.0115\n",
      "Epoch 10/50\n",
      "\u001b[1m13/13\u001b[0m \u001b[32m━━━━━━━━━━━━━━━━━━━━\u001b[0m\u001b[37m\u001b[0m \u001b[1m6s\u001b[0m 493ms/step - accuracy: 0.7589 - loss: 1.6839 - val_accuracy: 0.7669 - val_loss: 1.9660\n",
      "Epoch 11/50\n",
      "\u001b[1m13/13\u001b[0m \u001b[32m━━━━━━━━━━━━━━━━━━━━\u001b[0m\u001b[37m\u001b[0m \u001b[1m6s\u001b[0m 493ms/step - accuracy: 0.7691 - loss: 1.6440 - val_accuracy: 0.7752 - val_loss: 1.9143\n",
      "Epoch 12/50\n",
      "\u001b[1m13/13\u001b[0m \u001b[32m━━━━━━━━━━━━━━━━━━━━\u001b[0m\u001b[37m\u001b[0m \u001b[1m6s\u001b[0m 493ms/step - accuracy: 0.7825 - loss: 1.6043 - val_accuracy: 0.7936 - val_loss: 1.8696\n",
      "Epoch 13/50\n",
      "\u001b[1m13/13\u001b[0m \u001b[32m━━━━━━━━━━━━━━━━━━━━\u001b[0m\u001b[37m\u001b[0m \u001b[1m6s\u001b[0m 495ms/step - accuracy: 0.7941 - loss: 1.5673 - val_accuracy: 0.7988 - val_loss: 1.8403\n",
      "Epoch 14/50\n",
      "\u001b[1m13/13\u001b[0m \u001b[32m━━━━━━━━━━━━━━━━━━━━\u001b[0m\u001b[37m\u001b[0m \u001b[1m6s\u001b[0m 494ms/step - accuracy: 0.7987 - loss: 1.5390 - val_accuracy: 0.7988 - val_loss: 1.8229\n",
      "Epoch 15/50\n",
      "\u001b[1m13/13\u001b[0m \u001b[32m━━━━━━━━━━━━━━━━━━━━\u001b[0m\u001b[37m\u001b[0m \u001b[1m6s\u001b[0m 498ms/step - accuracy: 0.7997 - loss: 1.5164 - val_accuracy: 0.7988 - val_loss: 1.8104\n",
      "Epoch 16/50\n",
      "\u001b[1m13/13\u001b[0m \u001b[32m━━━━━━━━━━━━━━━━━━━━\u001b[0m\u001b[37m\u001b[0m \u001b[1m6s\u001b[0m 496ms/step - accuracy: 0.7999 - loss: 1.4977 - val_accuracy: 0.7988 - val_loss: 1.8029\n",
      "Epoch 17/50\n",
      "\u001b[1m13/13\u001b[0m \u001b[32m━━━━━━━━━━━━━━━━━━━━\u001b[0m\u001b[37m\u001b[0m \u001b[1m6s\u001b[0m 497ms/step - accuracy: 0.7999 - loss: 1.4826 - val_accuracy: 0.7988 - val_loss: 1.7980\n",
      "Epoch 18/50\n",
      "\u001b[1m13/13\u001b[0m \u001b[32m━━━━━━━━━━━━━━━━━━━━\u001b[0m\u001b[37m\u001b[0m \u001b[1m6s\u001b[0m 498ms/step - accuracy: 0.7999 - loss: 1.4693 - val_accuracy: 0.7988 - val_loss: 1.7925\n",
      "Epoch 19/50\n",
      "\u001b[1m13/13\u001b[0m \u001b[32m━━━━━━━━━━━━━━━━━━━━\u001b[0m\u001b[37m\u001b[0m \u001b[1m6s\u001b[0m 494ms/step - accuracy: 0.8000 - loss: 1.4588 - val_accuracy: 0.7988 - val_loss: 1.7896\n",
      "Epoch 20/50\n",
      "\u001b[1m13/13\u001b[0m \u001b[32m━━━━━━━━━━━━━━━━━━━━\u001b[0m\u001b[37m\u001b[0m \u001b[1m6s\u001b[0m 496ms/step - accuracy: 0.8000 - loss: 1.4486 - val_accuracy: 0.7993 - val_loss: 1.7894\n",
      "Epoch 21/50\n",
      "\u001b[1m13/13\u001b[0m \u001b[32m━━━━━━━━━━━━━━━━━━━━\u001b[0m\u001b[37m\u001b[0m \u001b[1m6s\u001b[0m 496ms/step - accuracy: 0.8004 - loss: 1.4362 - val_accuracy: 0.8000 - val_loss: 1.7861\n",
      "Epoch 22/50\n",
      "\u001b[1m13/13\u001b[0m \u001b[32m━━━━━━━━━━━━━━━━━━━━\u001b[0m\u001b[37m\u001b[0m \u001b[1m4s\u001b[0m 292ms/step - accuracy: 0.8007 - loss: 1.4273 - val_accuracy: 0.8006 - val_loss: 1.7869\n",
      "Epoch 23/50\n",
      "\u001b[1m13/13\u001b[0m \u001b[32m━━━━━━━━━━━━━━━━━━━━\u001b[0m\u001b[37m\u001b[0m \u001b[1m4s\u001b[0m 292ms/step - accuracy: 0.8005 - loss: 1.4171 - val_accuracy: 0.8009 - val_loss: 1.7879\n",
      "Epoch 24/50\n",
      "\u001b[1m13/13\u001b[0m \u001b[32m━━━━━━━━━━━━━━━━━━━━\u001b[0m\u001b[37m\u001b[0m \u001b[1m4s\u001b[0m 292ms/step - accuracy: 0.8008 - loss: 1.4087 - val_accuracy: 0.8009 - val_loss: 1.7870\n",
      "Epoch 25/50\n",
      "\u001b[1m13/13\u001b[0m \u001b[32m━━━━━━━━━━━━━━━━━━━━\u001b[0m\u001b[37m\u001b[0m \u001b[1m4s\u001b[0m 292ms/step - accuracy: 0.8012 - loss: 1.3998 - val_accuracy: 0.8011 - val_loss: 1.7886\n",
      "Epoch 26/50\n",
      "\u001b[1m13/13\u001b[0m \u001b[32m━━━━━━━━━━━━━━━━━━━━\u001b[0m\u001b[37m\u001b[0m \u001b[1m4s\u001b[0m 293ms/step - accuracy: 0.8014 - loss: 1.3910 - val_accuracy: 0.8009 - val_loss: 1.7892\n",
      "Saved training history to history_2-layer.json\n",
      "\n",
      "🔹 Previewing first 4 examples (2-layer):\n",
      "\n",
      "  Example 1:\n",
      "    Input:     our expert team of analytical chemists provide eliquid analysis manufacturing services, ensuring full regulatory compliance for the ecigarette market.\n",
      "    Reference: eliquid testing uk\n",
      "    Generated:  your a and and your to and your in to \n",
      "\n",
      "  Example 2:\n",
      "    Input:     company is west michigan's full service backline rental, audio, and production resource, equipped to serve the midwest and beyond. 616 7359049\n",
      "    Reference: great performances start with great service\n",
      "    Generated:  the, \n",
      "\n",
      "  Example 3:\n",
      "    Input:     from placing entire software engineering teams to integrating easily into your current team, we offer bespoke placements of the very best engineers.\n",
      "    Reference: software development consultancy london\n",
      "    Generated:  \n",
      "\n",
      "  Example 4:\n",
      "    Input:     a strategic partner of the law society, company is a legal accounts, practice management and case management cloud based software solution.\n",
      "    Reference: cloud based legal accounts, practice and case management.\n",
      "    Generated:  for in, of, in the the of agency \n"
     ]
    },
    {
     "name": "stderr",
     "output_type": "stream",
     "text": [
      "Evaluating 2-layer: 100%|██████████| 994/994 [02:32<00:00,  6.52it/s]\n"
     ]
    },
    {
     "name": "stdout",
     "output_type": "stream",
     "text": [
      "\n",
      "▶️ Training bilstm\n",
      "Epoch 1/50\n",
      "\u001b[1m13/13\u001b[0m \u001b[32m━━━━━━━━━━━━━━━━━━━━\u001b[0m\u001b[37m\u001b[0m \u001b[1m10s\u001b[0m 587ms/step - accuracy: 0.5326 - loss: 9.7539 - val_accuracy: 0.6698 - val_loss: 3.0399\n",
      "Epoch 2/50\n",
      "\u001b[1m13/13\u001b[0m \u001b[32m━━━━━━━━━━━━━━━━━━━━\u001b[0m\u001b[37m\u001b[0m \u001b[1m9s\u001b[0m 725ms/step - accuracy: 0.6812 - loss: 2.5188 - val_accuracy: 0.6698 - val_loss: 2.2603\n",
      "Epoch 3/50\n",
      "\u001b[1m13/13\u001b[0m \u001b[32m━━━━━━━━━━━━━━━━━━━━\u001b[0m\u001b[37m\u001b[0m \u001b[1m9s\u001b[0m 723ms/step - accuracy: 0.6724 - loss: 2.0247 - val_accuracy: 0.7021 - val_loss: 2.2098\n",
      "Epoch 4/50\n",
      "\u001b[1m13/13\u001b[0m \u001b[32m━━━━━━━━━━━━━━━━━━━━\u001b[0m\u001b[37m\u001b[0m \u001b[1m9s\u001b[0m 720ms/step - accuracy: 0.7050 - loss: 1.8933 - val_accuracy: 0.7141 - val_loss: 2.1714\n",
      "Epoch 5/50\n",
      "\u001b[1m13/13\u001b[0m \u001b[32m━━━━━━━━━━━━━━━━━━━━\u001b[0m\u001b[37m\u001b[0m \u001b[1m9s\u001b[0m 717ms/step - accuracy: 0.7208 - loss: 1.8156 - val_accuracy: 0.7262 - val_loss: 2.1433\n",
      "Epoch 6/50\n",
      "\u001b[1m13/13\u001b[0m \u001b[32m━━━━━━━━━━━━━━━━━━━━\u001b[0m\u001b[37m\u001b[0m \u001b[1m9s\u001b[0m 712ms/step - accuracy: 0.7276 - loss: 1.7547 - val_accuracy: 0.7421 - val_loss: 2.0962\n",
      "Epoch 7/50\n",
      "\u001b[1m13/13\u001b[0m \u001b[32m━━━━━━━━━━━━━━━━━━━━\u001b[0m\u001b[37m\u001b[0m \u001b[1m9s\u001b[0m 716ms/step - accuracy: 0.7436 - loss: 1.6899 - val_accuracy: 0.7572 - val_loss: 2.0538\n",
      "Epoch 8/50\n",
      "\u001b[1m13/13\u001b[0m \u001b[32m━━━━━━━━━━━━━━━━━━━━\u001b[0m\u001b[37m\u001b[0m \u001b[1m9s\u001b[0m 716ms/step - accuracy: 0.7582 - loss: 1.6389 - val_accuracy: 0.7684 - val_loss: 2.0239\n",
      "Epoch 9/50\n",
      "\u001b[1m13/13\u001b[0m \u001b[32m━━━━━━━━━━━━━━━━━━━━\u001b[0m\u001b[37m\u001b[0m \u001b[1m9s\u001b[0m 719ms/step - accuracy: 0.7696 - loss: 1.6018 - val_accuracy: 0.7750 - val_loss: 1.9970\n",
      "Epoch 10/50\n",
      "\u001b[1m13/13\u001b[0m \u001b[32m━━━━━━━━━━━━━━━━━━━━\u001b[0m\u001b[37m\u001b[0m \u001b[1m9s\u001b[0m 719ms/step - accuracy: 0.7762 - loss: 1.5685 - val_accuracy: 0.7769 - val_loss: 1.9744\n",
      "Epoch 11/50\n",
      "\u001b[1m13/13\u001b[0m \u001b[32m━━━━━━━━━━━━━━━━━━━━\u001b[0m\u001b[37m\u001b[0m \u001b[1m9s\u001b[0m 721ms/step - accuracy: 0.7816 - loss: 1.5381 - val_accuracy: 0.7815 - val_loss: 1.9502\n",
      "Epoch 12/50\n",
      "\u001b[1m13/13\u001b[0m \u001b[32m━━━━━━━━━━━━━━━━━━━━\u001b[0m\u001b[37m\u001b[0m \u001b[1m9s\u001b[0m 721ms/step - accuracy: 0.7886 - loss: 1.5112 - val_accuracy: 0.7881 - val_loss: 1.9303\n",
      "Epoch 13/50\n",
      "\u001b[1m13/13\u001b[0m \u001b[32m━━━━━━━━━━━━━━━━━━━━\u001b[0m\u001b[37m\u001b[0m \u001b[1m9s\u001b[0m 720ms/step - accuracy: 0.7950 - loss: 1.4878 - val_accuracy: 0.7985 - val_loss: 1.9095\n",
      "Epoch 14/50\n",
      "\u001b[1m13/13\u001b[0m \u001b[32m━━━━━━━━━━━━━━━━━━━━\u001b[0m\u001b[37m\u001b[0m \u001b[1m9s\u001b[0m 721ms/step - accuracy: 0.7992 - loss: 1.4659 - val_accuracy: 0.7966 - val_loss: 1.8941\n",
      "Epoch 15/50\n",
      "\u001b[1m13/13\u001b[0m \u001b[32m━━━━━━━━━━━━━━━━━━━━\u001b[0m\u001b[37m\u001b[0m \u001b[1m9s\u001b[0m 718ms/step - accuracy: 0.8003 - loss: 1.4472 - val_accuracy: 0.7998 - val_loss: 1.8768\n",
      "Epoch 16/50\n",
      "\u001b[1m13/13\u001b[0m \u001b[32m━━━━━━━━━━━━━━━━━━━━\u001b[0m\u001b[37m\u001b[0m \u001b[1m9s\u001b[0m 718ms/step - accuracy: 0.8013 - loss: 1.4347 - val_accuracy: 0.8006 - val_loss: 1.8648\n",
      "Epoch 17/50\n",
      "\u001b[1m13/13\u001b[0m \u001b[32m━━━━━━━━━━━━━━━━━━━━\u001b[0m\u001b[37m\u001b[0m \u001b[1m9s\u001b[0m 720ms/step - accuracy: 0.8019 - loss: 1.4261 - val_accuracy: 0.8006 - val_loss: 1.8579\n",
      "Epoch 18/50\n",
      "\u001b[1m13/13\u001b[0m \u001b[32m━━━━━━━━━━━━━━━━━━━━\u001b[0m\u001b[37m\u001b[0m \u001b[1m9s\u001b[0m 719ms/step - accuracy: 0.8021 - loss: 1.4220 - val_accuracy: 0.8005 - val_loss: 1.8571\n",
      "Epoch 19/50\n",
      "\u001b[1m13/13\u001b[0m \u001b[32m━━━━━━━━━━━━━━━━━━━━\u001b[0m\u001b[37m\u001b[0m \u001b[1m9s\u001b[0m 722ms/step - accuracy: 0.8017 - loss: 1.4122 - val_accuracy: 0.8008 - val_loss: 1.8461\n",
      "Epoch 20/50\n",
      "\u001b[1m13/13\u001b[0m \u001b[32m━━━━━━━━━━━━━━━━━━━━\u001b[0m\u001b[37m\u001b[0m \u001b[1m9s\u001b[0m 722ms/step - accuracy: 0.8023 - loss: 1.3956 - val_accuracy: 0.8003 - val_loss: 1.8373\n",
      "Epoch 21/50\n",
      "\u001b[1m13/13\u001b[0m \u001b[32m━━━━━━━━━━━━━━━━━━━━\u001b[0m\u001b[37m\u001b[0m \u001b[1m9s\u001b[0m 722ms/step - accuracy: 0.8030 - loss: 1.3860 - val_accuracy: 0.7992 - val_loss: 1.8341\n",
      "Epoch 22/50\n",
      "\u001b[1m13/13\u001b[0m \u001b[32m━━━━━━━━━━━━━━━━━━━━\u001b[0m\u001b[37m\u001b[0m \u001b[1m5s\u001b[0m 407ms/step - accuracy: 0.8038 - loss: 1.3762 - val_accuracy: 0.7985 - val_loss: 1.8372\n",
      "Epoch 23/50\n",
      "\u001b[1m13/13\u001b[0m \u001b[32m━━━━━━━━━━━━━━━━━━━━\u001b[0m\u001b[37m\u001b[0m \u001b[1m5s\u001b[0m 407ms/step - accuracy: 0.8039 - loss: 1.3712 - val_accuracy: 0.7985 - val_loss: 1.8382\n",
      "Epoch 24/50\n",
      "\u001b[1m13/13\u001b[0m \u001b[32m━━━━━━━━━━━━━━━━━━━━\u001b[0m\u001b[37m\u001b[0m \u001b[1m5s\u001b[0m 408ms/step - accuracy: 0.8046 - loss: 1.3681 - val_accuracy: 0.7993 - val_loss: 1.8448\n",
      "Epoch 25/50\n",
      "\u001b[1m13/13\u001b[0m \u001b[32m━━━━━━━━━━━━━━━━━━━━\u001b[0m\u001b[37m\u001b[0m \u001b[1m5s\u001b[0m 409ms/step - accuracy: 0.8044 - loss: 1.3602 - val_accuracy: 0.7949 - val_loss: 1.8445\n",
      "Epoch 26/50\n",
      "\u001b[1m13/13\u001b[0m \u001b[32m━━━━━━━━━━━━━━━━━━━━\u001b[0m\u001b[37m\u001b[0m \u001b[1m5s\u001b[0m 408ms/step - accuracy: 0.8044 - loss: 1.3679 - val_accuracy: 0.7876 - val_loss: 1.8552\n",
      "Saved training history to history_bilstm.json\n",
      "\n",
      "🔹 Previewing first 4 examples (bilstm):\n",
      "\n",
      "  Example 1:\n",
      "    Input:     our expert team of analytical chemists provide eliquid analysis manufacturing services, ensuring full regulatory compliance for the ecigarette market.\n",
      "    Reference: eliquid testing uk\n",
      "    Generated:  for for the and and, and for, to to for, \n",
      "\n",
      "  Example 2:\n",
      "    Input:     company is west michigan's full service backline rental, audio, and production resource, equipped to serve the midwest and beyond. 616 7359049\n",
      "    Reference: great performances start with great service\n",
      "    Generated:  and in for for for in in in for in the, \n",
      "\n",
      "  Example 3:\n",
      "    Input:     from placing entire software engineering teams to integrating easily into your current team, we offer bespoke placements of the very best engineers.\n",
      "    Reference: software development consultancy london\n",
      "    Generated:  best and the of and \n",
      "\n",
      "  Example 4:\n",
      "    Input:     a strategic partner of the law society, company is a legal accounts, practice management and case management cloud based software solution.\n",
      "    Reference: cloud based legal accounts, practice and case management.\n",
      "    Generated:  your and software to, marketing, in,,  \n"
     ]
    },
    {
     "name": "stderr",
     "output_type": "stream",
     "text": [
      "Evaluating bilstm: 100%|██████████| 994/994 [03:00<00:00,  5.52it/s]"
     ]
    },
    {
     "name": "stdout",
     "output_type": "stream",
     "text": [
      "   Variant    BLEU-4   ROUGE-1   ROUGE-2   ROUGE-L  Exact Match\n",
      "0  1-layer  0.010473  0.068936  0.001240  0.064048          0.0\n",
      "1  2-layer  0.006780  0.050552  0.000224  0.048778          0.0\n",
      "2   bilstm  0.011295  0.072101  0.000309  0.068956          0.0\n"
     ]
    },
    {
     "name": "stderr",
     "output_type": "stream",
     "text": [
      "\n"
     ]
    }
   ],
   "source": [
    "results_df = run_all_variants(df, df_test, tokenizer, use_attention=False)\n",
    "print(results_df)"
   ]
  },
  {
   "cell_type": "code",
   "execution_count": 43,
   "id": "06ae80ee-3572-4773-8dcd-0282583b692c",
   "metadata": {
    "tags": []
   },
   "outputs": [
    {
     "name": "stdout",
     "output_type": "stream",
     "text": [
      "[('and', 206), ('in', 160), ('for', 117), ('the', 97), ('your', 53), ('solutions', 46), ('agency', 45), ('software', 42), ('a', 42), ('of', 39)]\n"
     ]
    }
   ],
   "source": [
    "from collections import Counter\n",
    "word_counts = Counter(\" \".join(df['output_cleaned']).split())\n",
    "print(word_counts.most_common(10))"
   ]
  },
  {
   "cell_type": "code",
   "execution_count": 44,
   "id": "1024eccb-8d9f-484d-bf95-ec23bee412de",
   "metadata": {
    "tags": []
   },
   "outputs": [
    {
     "name": "stdout",
     "output_type": "stream",
     "text": [
      "Token ID for 'and': 463\n"
     ]
    }
   ],
   "source": [
    "print(\"Token ID for 'and':\", tokenizer.convert_tokens_to_ids(\"and\"))"
   ]
  },
  {
   "cell_type": "code",
   "execution_count": 45,
   "id": "7c4cb03b-7d04-465c-bf24-f0fcfa6645b4",
   "metadata": {
    "tags": []
   },
   "outputs": [
    {
     "name": "stdout",
     "output_type": "stream",
     "text": [
      "Token for ID 463 → ['and']\n"
     ]
    }
   ],
   "source": [
    "token_id = tokenizer.convert_tokens_to_ids(\"and\")\n",
    "print(\"Token for ID\", token_id, \"→\", tokenizer.convert_ids_to_tokens([token_id]))"
   ]
  },
  {
   "cell_type": "code",
   "execution_count": 46,
   "id": "b4848003-92b0-4493-8435-83bc6bc5cd96",
   "metadata": {
    "tags": []
   },
   "outputs": [
    {
     "name": "stdout",
     "output_type": "stream",
     "text": [
      "BOS token: <s> → ID: 0\n",
      "EOS token: </s> → ID: 2\n",
      "PAD token: <pad> → ID: 1\n"
     ]
    }
   ],
   "source": [
    "print(\"BOS token:\", tokenizer.bos_token, \"→ ID:\", tokenizer.bos_token_id)\n",
    "print(\"EOS token:\", tokenizer.eos_token, \"→ ID:\", tokenizer.eos_token_id)\n",
    "print(\"PAD token:\", tokenizer.pad_token, \"→ ID:\", tokenizer.pad_token_id)\n"
   ]
  },
  {
   "cell_type": "code",
   "execution_count": 47,
   "id": "ad3a329f-ea60-4e05-8ca9-cb2e69d076c9",
   "metadata": {
    "id": "ad3a329f-ea60-4e05-8ca9-cb2e69d076c9",
    "tags": []
   },
   "outputs": [],
   "source": [
    "import matplotlib.pyplot as plt\n",
    "\n",
    "def plot_training_history(history, variant_name):\n",
    "    \"\"\"\n",
    "    Plot training and validation loss per epoch from a Keras History object.\n",
    "    \"\"\"\n",
    "    # Extract loss values\n",
    "    train_loss = history['loss']\n",
    "    val_loss = history.get('val_loss')\n",
    "    epochs = range(1, len(train_loss) + 1)\n",
    "\n",
    "    plt.figure(figsize=(8, 5))\n",
    "    plt.plot(epochs, train_loss, label='Training Loss')\n",
    "    if val_loss:\n",
    "        plt.plot(epochs, val_loss, label='Validation Loss')\n",
    "    plt.title(f'{variant_name} - Training & Validation Loss')\n",
    "    plt.xlabel('Epoch')\n",
    "    plt.ylabel('Loss')\n",
    "    plt.legend()\n",
    "    plt.grid(True)\n",
    "    plt.tight_layout()\n",
    "    plt.show()"
   ]
  },
  {
   "cell_type": "code",
   "execution_count": 48,
   "id": "GqiDS6fHXtZj",
   "metadata": {
    "id": "GqiDS6fHXtZj",
    "tags": []
   },
   "outputs": [],
   "source": [
    "with open(\"history_1-layer.json\", \"r\") as f:\n",
    "    hist_1layer_dict = json.load(f)\n",
    "\n",
    "with open(\"history_2-layer.json\", \"r\") as f:\n",
    "    hist_2layer_dict = json.load(f)\n",
    "\n",
    "with open(\"history_bilstm.json\", \"r\") as f:\n",
    "    hist_bilstm_dict = json.load(f)\n",
    "    \n",
    "with open(\"history_1-layer_attention.json\", \"r\") as f:\n",
    "    hist_1layer_attention_dict = json.load(f)\n",
    "\n",
    "with open(\"history_2-layer_attention.json\", \"r\") as f:\n",
    "    hist_2layer_attention_dict = json.load(f)\n",
    "\n",
    "with open(\"history_bilstm_attention.json\", \"r\") as f:\n",
    "    hist_bilstm_attention_dict = json.load(f)"
   ]
  },
  {
   "cell_type": "code",
   "execution_count": 49,
   "id": "178f8d49-a52f-46a1-966d-a15717eae73e",
   "metadata": {
    "colab": {
     "base_uri": "https://localhost:8080/",
     "height": 507
    },
    "id": "178f8d49-a52f-46a1-966d-a15717eae73e",
    "outputId": "b901f045-e0e0-4c43-8ef6-c79b4eb6fd6e",
    "tags": []
   },
   "outputs": [
    {
     "data": {
      "image/png": "[encoded data removed]",
      "text/plain": [
       "<Figure size 800x500 with 1 Axes>"
      ]
     },
     "metadata": {},
     "output_type": "display_data"
    }
   ],
   "source": [
    "plot_training_history(hist_1layer_dict, '1-layer LSTM')"
   ]
  },
  {
   "cell_type": "code",
   "execution_count": 50,
   "id": "UAUH5fZ_XwZu",
   "metadata": {
    "colab": {
     "base_uri": "https://localhost:8080/",
     "height": 507
    },
    "id": "UAUH5fZ_XwZu",
    "outputId": "633c01e4-e7be-493f-9de0-e2b3edc00374",
    "tags": []
   },
   "outputs": [
    {
     "data": {
      "image/png": "[encoded data removed]",
      "text/plain": [
       "<Figure size 800x500 with 1 Axes>"
      ]
     },
     "metadata": {},
     "output_type": "display_data"
    }
   ],
   "source": [
    "plot_training_history(hist_2layer_dict, '2-layer LSTM')"
   ]
  },
  {
   "cell_type": "code",
   "execution_count": 51,
   "id": "k89tmNv3Xz8k",
   "metadata": {
    "colab": {
     "base_uri": "https://localhost:8080/",
     "height": 507
    },
    "id": "k89tmNv3Xz8k",
    "outputId": "6039bc85-8998-4ac7-c2e4-ccc55aa2b725",
    "tags": []
   },
   "outputs": [
    {
     "data": {
      "image/png": "[encoded data removed]",
      "text/plain": [
       "<Figure size 800x500 with 1 Axes>"
      ]
     },
     "metadata": {},
     "output_type": "display_data"
    }
   ],
   "source": [
    "plot_training_history(hist_bilstm_dict, 'Bidirectional LSTM')"
   ]
  },
  {
   "cell_type": "code",
   "execution_count": 52,
   "id": "a86fe3f4-8044-4565-a72f-070265429d2b",
   "metadata": {
    "tags": []
   },
   "outputs": [
    {
     "data": {
      "image/png": "[encoded data removed]",
      "text/plain": [
       "<Figure size 800x500 with 1 Axes>"
      ]
     },
     "metadata": {},
     "output_type": "display_data"
    }
   ],
   "source": [
    "plot_training_history(hist_1layer_attention_dict, '1-layer LSTM')"
   ]
  },
  {
   "cell_type": "code",
   "execution_count": 53,
   "id": "d4252568-4968-4463-ac06-62ff20e18a80",
   "metadata": {
    "tags": []
   },
   "outputs": [
    {
     "data": {
      "image/png": "[encoded data removed]",
      "text/plain": [
       "<Figure size 800x500 with 1 Axes>"
      ]
     },
     "metadata": {},
     "output_type": "display_data"
    }
   ],
   "source": [
    "plot_training_history(hist_2layer_attention_dict, '2-layer LSTM')"
   ]
  },
  {
   "cell_type": "code",
   "execution_count": 54,
   "id": "00f0901d-1caa-4bca-8af6-be8dddf9fb75",
   "metadata": {
    "tags": []
   },
   "outputs": [
    {
     "data": {
      "image/png": "[encoded data removed]",
      "text/plain": [
       "<Figure size 800x500 with 1 Axes>"
      ]
     },
     "metadata": {},
     "output_type": "display_data"
    }
   ],
   "source": [
    "plot_training_history(hist_bilstm_attention_dict, 'Bidirectional LSTM')"
   ]
  },
  {
   "cell_type": "code",
   "execution_count": 71,
   "id": "34ecdcc8-99e3-4f8e-9308-42dce5111bf2",
   "metadata": {
    "colab": {
     "base_uri": "https://localhost:8080/"
    },
    "id": "34ecdcc8-99e3-4f8e-9308-42dce5111bf2",
    "outputId": "353a995b-3f47-439d-cada-dd2f6068ef1c",
    "tags": []
   },
   "outputs": [],
   "source": [
    "from tensorflow.keras.models import load_model, Model\n",
    "from tensorflow.keras.layers import Input, Concatenate\n",
    "import numpy as np\n",
    "\n",
    "def load_inference_models(model_path, variant, tokenizer, max_input_len):\n",
    "    \"\"\"\n",
    "    Loads a trained seq2seq model from disk and returns (encoder_model, decoder_model).\n",
    "    \"\"\"\n",
    "    # 1) Load the full trained model\n",
    "    model = load_model(model_path)\n",
    "\n",
    "    # 2) Rebuild the encoder inference model\n",
    "    if variant in ('1-layer','2-layer'):\n",
    "        # for both 1-layer and 2-layer, the second LSTM layer is named 'encoder_lstm'\n",
    "        enc_layer = model.get_layer('encoder_lstm')\n",
    "        # enc_layer.output = [encoder_output, state_h, state_c]\n",
    "        encoder_model = Model(model.input[0], enc_layer.output[1:])\n",
    "        lstm_units = enc_layer.units\n",
    "    else:  # bilstm\n",
    "        bi = model.get_layer('encoder_bilstm')\n",
    "        _, f_h, f_c, b_h, b_c = bi.output\n",
    "        st_h = Concatenate()([f_h, b_h])\n",
    "        st_c = Concatenate()([f_c, b_c])\n",
    "        encoder_model = Model(model.input[0], [st_h, st_c])\n",
    "        lstm_units = bi.forward_layer.units * 2  # since we concatenated\n",
    "\n",
    "    # 3) Rebuild the decoder inference model\n",
    "    token_in   = Input(shape=(1,),          name='in_token')\n",
    "    state_h_in = Input(shape=(lstm_units,), name='in_state_h')\n",
    "    state_c_in = Input(shape=(lstm_units,), name='in_state_c')\n",
    "\n",
    "    dec_embed = model.get_layer('decoder_embedding')\n",
    "    dec_lstm  = model.get_layer('decoder_lstm')\n",
    "    dec_dense = model.get_layer('decoder_dense')\n",
    "\n",
    "    x = dec_embed(token_in)                                           # (batch,1,emb)\n",
    "    x, h, c = dec_lstm(x, initial_state=[state_h_in, state_c_in])     # one step\n",
    "    output_probs = dec_dense(x)                                       # (batch,1,vocab)\n",
    "\n",
    "    decoder_model = Model(\n",
    "        inputs=[token_in, state_h_in, state_c_in],\n",
    "        outputs=[output_probs, h, c],\n",
    "        name=f\"inference_decoder_{variant}\"\n",
    "    )\n",
    "\n",
    "    return encoder_model, decoder_model\n",
    "\n",
    "\n",
    "# Example: load your 1-layer model, then generate a slogan\n",
    "tokenizer = BartTokenizer.from_pretrained('facebook/bart-base')\n",
    "encoder_model, decoder_model = load_inference_models('best_bilstm.keras',\n",
    "                                             variant='bilstm',\n",
    "                                             tokenizer=tokenizer,\n",
    "                                             max_input_len=128)\n",
    "def top_k_sample(probs, k=10):\n",
    "            top_k_indices = probs.argsort()[-k:][::-1]  # get indices of top-k tokens\n",
    "            top_k_probs = probs[top_k_indices]\n",
    "            top_k_probs /= top_k_probs.sum()           # normalize to get probabilities\n",
    "            return np.random.choice(top_k_indices, p=top_k_probs)\n",
    "        \n",
    "def generate_slogan(desc_text, encoder_model, decoder_model, tokenizer,\n",
    "                    max_input_len=128, max_target_len=32):\n",
    "    # encode\n",
    "    enc_ids = tokenizer(desc_text.lower(),\n",
    "                        return_tensors='np',\n",
    "                        padding='max_length',\n",
    "                        truncation=True,\n",
    "                        max_length=max_input_len)['input_ids']\n",
    "    state_h, state_c = encoder_model.predict(enc_ids, verbose=0)\n",
    "\n",
    "    # decode\n",
    "    tgt = np.array([[tokenizer.bos_token_id]])\n",
    "    tokens = []\n",
    "    for _ in range(max_target_len):\n",
    "        probs, state_h, state_c = decoder_model.predict(\n",
    "            [tgt, state_h, state_c], verbose=0\n",
    "        )\n",
    "        probs_new = probs[0, 0]\n",
    "        # next_id = np.argmax(probs[0, -1, :])\n",
    "        next_id = top_k_sample(probs_new, k=10)\n",
    "        if next_id == tokenizer.eos_token_id:\n",
    "            break\n",
    "        tokens.append(next_id)\n",
    "        tgt = np.array([[next_id]])\n",
    "\n",
    "    return tokenizer.decode(tokens, skip_special_tokens=True)"
   ]
  },
  {
   "cell_type": "code",
   "execution_count": 72,
   "id": "50de4eb5-5277-4ccd-b119-31b905e83e42",
   "metadata": {
    "tags": []
   },
   "outputs": [],
   "source": [
    "encoder_model, decoder_model = load_inference_models(\"best_bilstm.keras\", \"bi-lstm\", tokenizer, max_input_len = 32)"
   ]
  },
  {
   "cell_type": "code",
   "execution_count": 73,
   "id": "57bbc385-8c3d-4b7c-b0a3-1f994c205967",
   "metadata": {
    "tags": []
   },
   "outputs": [
    {
     "name": "stdout",
     "output_type": "stream",
     "text": [
      "Slogan:  the the in agency for in and \n"
     ]
    }
   ],
   "source": [
    "s = generate_slogan(\"a strategic partner of the law society, company is a legal accounts, practice management and case management cloud based software solution\", \n",
    "                    encoder_model, \n",
    "                    decoder_model,\n",
    "                    tokenizer, \n",
    "                    max_input_len=128, \n",
    "                    max_target_len=32)\n",
    "print(\"Slogan:\", s)"
   ]
  },
  {
   "cell_type": "code",
   "execution_count": 74,
   "id": "35d3b1d1-2bc7-4033-89ee-cc1025f1145a",
   "metadata": {},
   "outputs": [
    {
     "name": "stdout",
     "output_type": "stream",
     "text": [
      "--- Example 1 ---\n",
      "Input:     Easily deliver personalized activities that enrich the lives of residents in older adult communities. Save time and increase satisfaction.\n",
      "Reference: Build World-Class Recreation Programs\n",
      "Generated:  your and in and and of agency \n",
      "\n",
      "--- Example 2 ---\n",
      "Input:     Powerful lead generation software that converts abandoning visitors into subscribers with our dynamic marketing tools and Exit Intent® technology.\n",
      "Reference: Most Powerful Lead Generation Software for Marketers\n",
      "Generated:  your a for in in and, to and and \n",
      "\n",
      "--- Example 3 ---\n",
      "Input:     Twine matches companies to the best digital and creative freelancers from a network of over 260,000. It's free to post a job and you only pay when you hire.\n",
      "Reference: Hire quality freelancers for your job\n",
      "Generated:  the for \n",
      "\n",
      "--- Example 4 ---\n",
      "Input:     Looking for fresh web design & development? Need new marketing materials or a smart campaign to drive business? How about a video or updated photos? Let's talk and tell the world your story.\n",
      "Reference: Ohio Marketing, Web Design & Development\n",
      "Generated:  and the and for, for, and and the and in in \n",
      "\n",
      "--- Example 5 ---\n",
      "Input:     Our expert team of Analytical Chemists provide eLiquid analysis & manufacturing services, ensuring full regulatory compliance for the e-cigarette market.\n",
      "Reference: E-Liquid Testing UK\n",
      "Generated:  of,, in and \n",
      "\n",
      "--- Example 6 ---\n",
      "Input:     From placing entire software engineering teams to integrating easily into your current team, we offer bespoke placements of the very best engineers.\n",
      "Reference: Software Development Consultancy London\n",
      "Generated:  and for and's for agency and and, and and agency \n",
      "\n",
      "--- Example 7 ---\n",
      "Input:     Turning ideas into visual content since 1999. Content Creation Studio in Ghent. Branded content - corporate video - visuals for events - 360 video\n",
      "Reference: The Image Distillery\n",
      "Generated:  best and and solutions and marketing \n",
      "\n",
      "--- Example 8 ---\n",
      "Input:     World market leader for robotic vision systems, inline measurement technology & inspection technology. We are your partner at over 25 locations worldwide.\n",
      "Reference: Leading Machine Vision Systems\n",
      "Generated:  a and for and and and \n",
      "\n",
      "--- Example 9 ---\n",
      "Input:     People and projects for sustainable change. Experts in sustainability recruitment, we recruit exceptional people into roles working on sustainability projects or in ethical and responsible organisations.\n",
      "Reference: Change Agents UK\n",
      "Generated:  and and and and for to for of for solutions and \n",
      "\n"
     ]
    }
   ],
   "source": [
    "# Assuming you’ve already run:\n",
    "#   encoder_model, decoder_model = load_inference_models(...)\n",
    "#   tokenizer = BartTokenizer.from_pretrained(...)\n",
    "#   and defined generate_slogan(desc, encoder_model, decoder_model, tokenizer)\n",
    "\n",
    "exes = [\n",
    "    [\"Easily deliver personalized activities that enrich the lives of residents in older adult communities. Save time and increase satisfaction.\",\n",
    "     \"Build World-Class Recreation Programs\"],\n",
    "    [\"Powerful lead generation software that converts abandoning visitors into subscribers with our dynamic marketing tools and Exit Intent® technology.\",\n",
    "     \"Most Powerful Lead Generation Software for Marketers\"],\n",
    "    [\"Twine matches companies to the best digital and creative freelancers from a network of over 260,000. It's free to post a job and you only pay when you hire.\",\n",
    "     \"Hire quality freelancers for your job\"],\n",
    "    [\"Looking for fresh web design & development? Need new marketing materials or a smart campaign to drive business? How about a video or updated photos? Let's talk and tell the world your story.\",\n",
    "     \"Ohio Marketing, Web Design & Development\"],\n",
    "    ['Our expert team of Analytical Chemists provide eLiquid analysis & manufacturing services, ensuring full regulatory compliance for the e-cigarette market.',\n",
    "    'E-Liquid Testing UK'],\n",
    "    ['From placing entire software engineering teams to integrating easily into your current team, we offer bespoke placements of the very best engineers.',\n",
    "    'Software Development Consultancy London'],\n",
    "    ['Turning ideas into visual content since 1999. Content Creation Studio in Ghent. Branded content - corporate video - visuals for events - 360 video',\n",
    "    'The Image Distillery'],\n",
    "    ['World market leader for robotic vision systems, inline measurement technology & inspection technology. We are your partner at over 25 locations worldwide.',\n",
    "    'Leading Machine Vision Systems'],\n",
    "    # --- other examples\n",
    "    ['People and projects for sustainable change. Experts in sustainability recruitment, we recruit exceptional people into roles working on sustainability projects or in ethical and responsible organisations.',\n",
    "     'Change Agents UK']\n",
    "    ]\n",
    "\n",
    "for idx, (desc, reference) in enumerate(exes, 1):\n",
    "    generated = generate_slogan(desc, encoder_model, decoder_model, tokenizer,\n",
    "                                max_input_len=128, max_target_len=32)\n",
    "    print(f\"--- Example {idx} ---\")\n",
    "    print(f\"Input:     {desc}\")\n",
    "    print(f\"Reference: {reference}\")\n",
    "    print(f\"Generated: {generated}\\n\")"
   ]
  },
  {
   "cell_type": "code",
   "execution_count": null,
   "id": "f21e2324-c065-41fb-a029-46531d566b78",
   "metadata": {},
   "outputs": [],
   "source": []
  }
 ],
 "metadata": {
  "accelerator": "GPU",
  "colab": {
   "gpuType": "T4",
   "provenance": []
  },
  "environment": {
   "kernel": "conda-base-py",
   "name": "workbench-notebooks.m129",
   "type": "gcloud",
   "uri": "us-docker.pkg.dev/deeplearning-platform-release/gcr.io/workbench-notebooks:m129"
  },
  "kernelspec": {
   "display_name": "Python 3 (ipykernel) (Local)",
   "language": "python",
   "name": "conda-base-py"
  },
  "language_info": {
   "codemirror_mode": {
    "name": "ipython",
    "version": 3
   },
   "file_extension": ".py",
   "mimetype": "text/x-python",
   "name": "python",
   "nbconvert_exporter": "python",
   "pygments_lexer": "ipython3",
   "version": "3.10.16"
  }
 },
 "nbformat": 4,
 "nbformat_minor": 5
}
